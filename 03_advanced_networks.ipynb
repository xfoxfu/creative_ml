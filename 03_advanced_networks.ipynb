{
  "cells": [
    {
      "attachments": {},
      "cell_type": "markdown",
      "metadata": {
        "id": "_Im_GPbLwOpz"
      },
      "source": [
        "# Creative machine learning - Advanced neural networks\n",
        "\n",
        "### Author: Philippe Esling (esling@ircam.fr)\n",
        "\n",
        "In this course we will cover\n",
        "1. An introduction to [convolutions](#convolution) and how they can be used in CNN\n",
        "2. Defining a [convolutional Neural Network](#cnn) in Pytorch for image classification \n",
        "3. Coding our own [convolutional layer](#layer)\n",
        "4. An explanation on [recurrent networks](#rnn) in practice\n",
        "5. An exercise on [symbolic music generation](#music) with LSTM in both Pytorch and JAX\n",
        "\n",
        "As usual, we are going to use relatively _low-level_ libraries to perform the first exercises (implementing convolutions). To observe this idea in simple setups, we are going to use the `numpy` library and also initialize the homemade course library `cml` and style for future plotting and exercise. We also set the random generator to a fixed point with `rng = np.random.RandomState(1)`, to ensure reproducibility"
      ]
    },
    {
      "cell_type": "code",
      "execution_count": null,
      "metadata": {
        "id": "uhC4TIY2wOp1",
        "outputId": "508a1c7d-4a64-449c-f5b5-ff223085ff4c"
      },
      "outputs": [
        {
          "data": {
            "text/html": [
              "<div class=\"bk-root\">\n",
              "        <a href=\"https://bokeh.org\" target=\"_blank\" class=\"bk-logo bk-logo-small bk-logo-notebook\"></a>\n",
              "        <span id=\"1002\">Loading BokehJS ...</span>\n",
              "    </div>\n"
            ]
          },
          "metadata": {},
          "output_type": "display_data"
        },
        {
          "data": {
            "application/javascript": "(function(root) {\n  function now() {\n    return new Date();\n  }\n\n  const force = true;\n\n  if (typeof root._bokeh_onload_callbacks === \"undefined\" || force === true) {\n    root._bokeh_onload_callbacks = [];\n    root._bokeh_is_loading = undefined;\n  }\n\nconst JS_MIME_TYPE = 'application/javascript';\n  const HTML_MIME_TYPE = 'text/html';\n  const EXEC_MIME_TYPE = 'application/vnd.bokehjs_exec.v0+json';\n  const CLASS_NAME = 'output_bokeh rendered_html';\n\n  /**\n   * Render data to the DOM node\n   */\n  function render(props, node) {\n    const script = document.createElement(\"script\");\n    node.appendChild(script);\n  }\n\n  /**\n   * Handle when an output is cleared or removed\n   */\n  function handleClearOutput(event, handle) {\n    const cell = handle.cell;\n\n    const id = cell.output_area._bokeh_element_id;\n    const server_id = cell.output_area._bokeh_server_id;\n    // Clean up Bokeh references\n    if (id != null && id in Bokeh.index) {\n      Bokeh.index[id].model.document.clear();\n      delete Bokeh.index[id];\n    }\n\n    if (server_id !== undefined) {\n      // Clean up Bokeh references\n      const cmd_clean = \"from bokeh.io.state import curstate; print(curstate().uuid_to_server['\" + server_id + \"'].get_sessions()[0].document.roots[0]._id)\";\n      cell.notebook.kernel.execute(cmd_clean, {\n        iopub: {\n          output: function(msg) {\n            const id = msg.content.text.trim();\n            if (id in Bokeh.index) {\n              Bokeh.index[id].model.document.clear();\n              delete Bokeh.index[id];\n            }\n          }\n        }\n      });\n      // Destroy server and session\n      const cmd_destroy = \"import bokeh.io.notebook as ion; ion.destroy_server('\" + server_id + \"')\";\n      cell.notebook.kernel.execute(cmd_destroy);\n    }\n  }\n\n  /**\n   * Handle when a new output is added\n   */\n  function handleAddOutput(event, handle) {\n    const output_area = handle.output_area;\n    const output = handle.output;\n\n    // limit handleAddOutput to display_data with EXEC_MIME_TYPE content only\n    if ((output.output_type != \"display_data\") || (!Object.prototype.hasOwnProperty.call(output.data, EXEC_MIME_TYPE))) {\n      return\n    }\n\n    const toinsert = output_area.element.find(\".\" + CLASS_NAME.split(' ')[0]);\n\n    if (output.metadata[EXEC_MIME_TYPE][\"id\"] !== undefined) {\n      toinsert[toinsert.length - 1].firstChild.textContent = output.data[JS_MIME_TYPE];\n      // store reference to embed id on output_area\n      output_area._bokeh_element_id = output.metadata[EXEC_MIME_TYPE][\"id\"];\n    }\n    if (output.metadata[EXEC_MIME_TYPE][\"server_id\"] !== undefined) {\n      const bk_div = document.createElement(\"div\");\n      bk_div.innerHTML = output.data[HTML_MIME_TYPE];\n      const script_attrs = bk_div.children[0].attributes;\n      for (let i = 0; i < script_attrs.length; i++) {\n        toinsert[toinsert.length - 1].firstChild.setAttribute(script_attrs[i].name, script_attrs[i].value);\n        toinsert[toinsert.length - 1].firstChild.textContent = bk_div.children[0].textContent\n      }\n      // store reference to server id on output_area\n      output_area._bokeh_server_id = output.metadata[EXEC_MIME_TYPE][\"server_id\"];\n    }\n  }\n\n  function register_renderer(events, OutputArea) {\n\n    function append_mime(data, metadata, element) {\n      // create a DOM node to render to\n      const toinsert = this.create_output_subarea(\n        metadata,\n        CLASS_NAME,\n        EXEC_MIME_TYPE\n      );\n      this.keyboard_manager.register_events(toinsert);\n      // Render to node\n      const props = {data: data, metadata: metadata[EXEC_MIME_TYPE]};\n      render(props, toinsert[toinsert.length - 1]);\n      element.append(toinsert);\n      return toinsert\n    }\n\n    /* Handle when an output is cleared or removed */\n    events.on('clear_output.CodeCell', handleClearOutput);\n    events.on('delete.Cell', handleClearOutput);\n\n    /* Handle when a new output is added */\n    events.on('output_added.OutputArea', handleAddOutput);\n\n    /**\n     * Register the mime type and append_mime function with output_area\n     */\n    OutputArea.prototype.register_mime_type(EXEC_MIME_TYPE, append_mime, {\n      /* Is output safe? */\n      safe: true,\n      /* Index of renderer in `output_area.display_order` */\n      index: 0\n    });\n  }\n\n  // register the mime type if in Jupyter Notebook environment and previously unregistered\n  if (root.Jupyter !== undefined) {\n    const events = require('base/js/events');\n    const OutputArea = require('notebook/js/outputarea').OutputArea;\n\n    if (OutputArea.prototype.mime_types().indexOf(EXEC_MIME_TYPE) == -1) {\n      register_renderer(events, OutputArea);\n    }\n  }\n  if (typeof (root._bokeh_timeout) === \"undefined\" || force === true) {\n    root._bokeh_timeout = Date.now() + 5000;\n    root._bokeh_failed_load = false;\n  }\n\n  const NB_LOAD_WARNING = {'data': {'text/html':\n     \"<div style='background-color: #fdd'>\\n\"+\n     \"<p>\\n\"+\n     \"BokehJS does not appear to have successfully loaded. If loading BokehJS from CDN, this \\n\"+\n     \"may be due to a slow or bad network connection. Possible fixes:\\n\"+\n     \"</p>\\n\"+\n     \"<ul>\\n\"+\n     \"<li>re-rerun `output_notebook()` to attempt to load from CDN again, or</li>\\n\"+\n     \"<li>use INLINE resources instead, as so:</li>\\n\"+\n     \"</ul>\\n\"+\n     \"<code>\\n\"+\n     \"from bokeh.resources import INLINE\\n\"+\n     \"output_notebook(resources=INLINE)\\n\"+\n     \"</code>\\n\"+\n     \"</div>\"}};\n\n  function display_loaded() {\n    const el = document.getElementById(\"1002\");\n    if (el != null) {\n      el.textContent = \"BokehJS is loading...\";\n    }\n    if (root.Bokeh !== undefined) {\n      if (el != null) {\n        el.textContent = \"BokehJS \" + root.Bokeh.version + \" successfully loaded.\";\n      }\n    } else if (Date.now() < root._bokeh_timeout) {\n      setTimeout(display_loaded, 100)\n    }\n  }\n\n  function run_callbacks() {\n    try {\n      root._bokeh_onload_callbacks.forEach(function(callback) {\n        if (callback != null)\n          callback();\n      });\n    } finally {\n      delete root._bokeh_onload_callbacks\n    }\n    console.debug(\"Bokeh: all callbacks have finished\");\n  }\n\n  function load_libs(css_urls, js_urls, callback) {\n    if (css_urls == null) css_urls = [];\n    if (js_urls == null) js_urls = [];\n\n    root._bokeh_onload_callbacks.push(callback);\n    if (root._bokeh_is_loading > 0) {\n      console.debug(\"Bokeh: BokehJS is being loaded, scheduling callback at\", now());\n      return null;\n    }\n    if (js_urls == null || js_urls.length === 0) {\n      run_callbacks();\n      return null;\n    }\n    console.debug(\"Bokeh: BokehJS not loaded, scheduling load and callback at\", now());\n    root._bokeh_is_loading = css_urls.length + js_urls.length;\n\n    function on_load() {\n      root._bokeh_is_loading--;\n      if (root._bokeh_is_loading === 0) {\n        console.debug(\"Bokeh: all BokehJS libraries/stylesheets loaded\");\n        run_callbacks()\n      }\n    }\n\n    function on_error(url) {\n      console.error(\"failed to load \" + url);\n    }\n\n    for (let i = 0; i < css_urls.length; i++) {\n      const url = css_urls[i];\n      const element = document.createElement(\"link\");\n      element.onload = on_load;\n      element.onerror = on_error.bind(null, url);\n      element.rel = \"stylesheet\";\n      element.type = \"text/css\";\n      element.href = url;\n      console.debug(\"Bokeh: injecting link tag for BokehJS stylesheet: \", url);\n      document.body.appendChild(element);\n    }\n\n    for (let i = 0; i < js_urls.length; i++) {\n      const url = js_urls[i];\n      const element = document.createElement('script');\n      element.onload = on_load;\n      element.onerror = on_error.bind(null, url);\n      element.async = false;\n      element.src = url;\n      console.debug(\"Bokeh: injecting script tag for BokehJS library: \", url);\n      document.head.appendChild(element);\n    }\n  };\n\n  function inject_raw_css(css) {\n    const element = document.createElement(\"style\");\n    element.appendChild(document.createTextNode(css));\n    document.body.appendChild(element);\n  }\n\n  const js_urls = [\"https://cdn.bokeh.org/bokeh/release/bokeh-2.4.3.min.js\", \"https://cdn.bokeh.org/bokeh/release/bokeh-gl-2.4.3.min.js\", \"https://cdn.bokeh.org/bokeh/release/bokeh-widgets-2.4.3.min.js\", \"https://cdn.bokeh.org/bokeh/release/bokeh-tables-2.4.3.min.js\", \"https://cdn.bokeh.org/bokeh/release/bokeh-mathjax-2.4.3.min.js\", \"https://unpkg.com/@holoviz/panel@0.14.4/dist/panel.min.js\"];\n  const css_urls = [];\n\n  const inline_js = [    function(Bokeh) {\n      Bokeh.set_log_level(\"info\");\n    },\nfunction(Bokeh) {\n    }\n  ];\n\n  function run_inline_js() {\n    if (root.Bokeh !== undefined || force === true) {\n          for (let i = 0; i < inline_js.length; i++) {\n      inline_js[i].call(root, root.Bokeh);\n    }\nif (force === true) {\n        display_loaded();\n      }} else if (Date.now() < root._bokeh_timeout) {\n      setTimeout(run_inline_js, 100);\n    } else if (!root._bokeh_failed_load) {\n      console.log(\"Bokeh: BokehJS failed to load within specified timeout.\");\n      root._bokeh_failed_load = true;\n    } else if (force !== true) {\n      const cell = $(document.getElementById(\"1002\")).parents('.cell').data().cell;\n      cell.output_area.append_execute_result(NB_LOAD_WARNING)\n    }\n  }\n\n  if (root._bokeh_is_loading === 0) {\n    console.debug(\"Bokeh: BokehJS loaded, going straight to plotting\");\n    run_inline_js();\n  } else {\n    load_libs(css_urls, js_urls, function() {\n      console.debug(\"Bokeh: BokehJS plotting callback run at\", now());\n      run_inline_js();\n    });\n  }\n}(window));",
            "application/vnd.bokehjs_load.v0+json": ""
          },
          "metadata": {},
          "output_type": "display_data"
        },
        {
          "data": {
            "application/javascript": "(function(root) {\n  function now() {\n    return new Date();\n  }\n\n  var force = true;\n\n  if (typeof root._bokeh_onload_callbacks === \"undefined\" || force === true) {\n    root._bokeh_onload_callbacks = [];\n    root._bokeh_is_loading = undefined;\n  }\n\n  if (typeof (root._bokeh_timeout) === \"undefined\" || force === true) {\n    root._bokeh_timeout = Date.now() + 5000;\n    root._bokeh_failed_load = false;\n  }\n\n  function run_callbacks() {\n    try {\n      root._bokeh_onload_callbacks.forEach(function(callback) {\n        if (callback != null)\n          callback();\n      });\n    } finally {\n      delete root._bokeh_onload_callbacks\n    }\n    console.debug(\"Bokeh: all callbacks have finished\");\n  }\n\n  function load_libs(css_urls, js_urls, js_modules, callback) {\n    if (css_urls == null) css_urls = [];\n    if (js_urls == null) js_urls = [];\n    if (js_modules == null) js_modules = [];\n\n    root._bokeh_onload_callbacks.push(callback);\n    if (root._bokeh_is_loading > 0) {\n      console.debug(\"Bokeh: BokehJS is being loaded, scheduling callback at\", now());\n      return null;\n    }\n    if (js_urls.length === 0 && js_modules.length === 0) {\n      run_callbacks();\n      return null;\n    }\n    console.debug(\"Bokeh: BokehJS not loaded, scheduling load and callback at\", now());\n\n    function on_load() {\n      root._bokeh_is_loading--;\n      if (root._bokeh_is_loading === 0) {\n        console.debug(\"Bokeh: all BokehJS libraries/stylesheets loaded\");\n        run_callbacks()\n      }\n    }\n\n    function on_error() {\n      console.error(\"failed to load \" + url);\n    }\n\n    for (var i = 0; i < css_urls.length; i++) {\n      var url = css_urls[i];\n      const element = document.createElement(\"link\");\n      element.onload = on_load;\n      element.onerror = on_error;\n      element.rel = \"stylesheet\";\n      element.type = \"text/css\";\n      element.href = url;\n      console.debug(\"Bokeh: injecting link tag for BokehJS stylesheet: \", url);\n      document.body.appendChild(element);\n    }\n\n    var skip = [];\n    if (window.requirejs) {\n      window.requirejs.config({'packages': {}, 'paths': {'ace': '//cdnjs.cloudflare.com/ajax/libs/ace/1.4.7', 'gridstack': 'https://cdn.jsdelivr.net/npm/gridstack@4.2.5/dist/gridstack-h5', 'notyf': 'https://cdn.jsdelivr.net/npm/notyf@3/notyf.min'}, 'shim': {'ace/ext-language_tools': {'deps': ['ace/ace']}, 'ace/ext-modelist': {'deps': ['ace/ace']}, 'gridstack': {'exports': 'GridStack'}}});\n      require([\"ace/ace\"], function(ace) {\n\twindow.ace = ace\n\ton_load()\n      })\n      require([\"ace/ext-language_tools\"], function() {\n\ton_load()\n      })\n      require([\"ace/ext-modelist\"], function() {\n\ton_load()\n      })\n      require([\"gridstack\"], function(GridStack) {\n\twindow.GridStack = GridStack\n\ton_load()\n      })\n      require([\"notyf\"], function() {\n\ton_load()\n      })\n      root._bokeh_is_loading = css_urls.length + 5;\n    } else {\n      root._bokeh_is_loading = css_urls.length + js_urls.length + js_modules.length;\n    }    if (((window['ace'] !== undefined) && (!(window['ace'] instanceof HTMLElement))) || window.requirejs) {\n      var urls = ['https://cdnjs.cloudflare.com/ajax/libs/ace/1.4.11/ace.js', 'https://cdnjs.cloudflare.com/ajax/libs/ace/1.4.11/ext-language_tools.js', 'https://cdnjs.cloudflare.com/ajax/libs/ace/1.4.11/ext-modelist.js'];\n      for (var i = 0; i < urls.length; i++) {\n        skip.push(urls[i])\n      }\n    }    if (((window['GridStack'] !== undefined) && (!(window['GridStack'] instanceof HTMLElement))) || window.requirejs) {\n      var urls = ['https://cdn.holoviz.org/panel/0.14.4/dist/bundled/gridstack/gridstack@4.2.5/dist/gridstack-h5.js'];\n      for (var i = 0; i < urls.length; i++) {\n        skip.push(urls[i])\n      }\n    }    if (((window['Notyf'] !== undefined) && (!(window['Notyf'] instanceof HTMLElement))) || window.requirejs) {\n      var urls = ['https://cdn.holoviz.org/panel/0.14.4/dist/bundled/notificationarea/notyf@3/notyf.min.js'];\n      for (var i = 0; i < urls.length; i++) {\n        skip.push(urls[i])\n      }\n    }    for (var i = 0; i < js_urls.length; i++) {\n      var url = js_urls[i];\n      if (skip.indexOf(url) >= 0) {\n\tif (!window.requirejs) {\n\t  on_load();\n\t}\n\tcontinue;\n      }\n      var element = document.createElement('script');\n      element.onload = on_load;\n      element.onerror = on_error;\n      element.async = false;\n      element.src = url;\n      console.debug(\"Bokeh: injecting script tag for BokehJS library: \", url);\n      document.head.appendChild(element);\n    }\n    for (var i = 0; i < js_modules.length; i++) {\n      var url = js_modules[i];\n      if (skip.indexOf(url) >= 0) {\n\tif (!window.requirejs) {\n\t  on_load();\n\t}\n\tcontinue;\n      }\n      var element = document.createElement('script');\n      element.onload = on_load;\n      element.onerror = on_error;\n      element.async = false;\n      element.src = url;\n      element.type = \"module\";\n      console.debug(\"Bokeh: injecting script tag for BokehJS library: \", url);\n      document.head.appendChild(element);\n    }\n    if (!js_urls.length && !js_modules.length) {\n      on_load()\n    }\n  };\n\n  function inject_raw_css(css) {\n    const element = document.createElement(\"style\");\n    element.appendChild(document.createTextNode(css));\n    document.body.appendChild(element);\n  }\n\n  var js_urls = [\"https://cdnjs.cloudflare.com/ajax/libs/ace/1.4.11/ace.js\", \"https://cdnjs.cloudflare.com/ajax/libs/ace/1.4.11/ext-language_tools.js\", \"https://cdnjs.cloudflare.com/ajax/libs/ace/1.4.11/ext-modelist.js\", \"https://cdn.bokeh.org/bokeh/release/bokeh-2.4.3.min.js\", \"https://cdn.bokeh.org/bokeh/release/bokeh-gl-2.4.3.min.js\", \"https://cdn.bokeh.org/bokeh/release/bokeh-widgets-2.4.3.min.js\", \"https://cdn.bokeh.org/bokeh/release/bokeh-tables-2.4.3.min.js\", \"https://cdn.bokeh.org/bokeh/release/bokeh-mathjax-2.4.3.min.js\", \"https://unpkg.com/@holoviz/panel@0.14.4/dist/panel.min.js\"];\n  var js_modules = [];\n  var css_urls = [\"https://cdn.holoviz.org/panel/0.14.4/dist/css/debugger.css\", \"https://cdn.holoviz.org/panel/0.14.4/dist/css/alerts.css\", \"https://cdn.holoviz.org/panel/0.14.4/dist/css/card.css\", \"https://cdn.holoviz.org/panel/0.14.4/dist/css/widgets.css\", \"https://cdn.holoviz.org/panel/0.14.4/dist/css/markdown.css\", \"https://cdn.holoviz.org/panel/0.14.4/dist/css/json.css\", \"https://cdn.holoviz.org/panel/0.14.4/dist/css/loading.css\", \"https://cdn.holoviz.org/panel/0.14.4/dist/css/dataframe.css\"];\n  var inline_js = [    function(Bokeh) {\n      inject_raw_css(\"/*\\n ~ CML // Creative Machine Learning ~\\n mml.css : CSS styling information for Panel and Bokeh\\n \\n This file defines the main CSS styling information for the CML course\\n \\n Author               :  Philippe Esling\\n                        <esling@ircam.fr>\\n*/\\n\\nbody {\\n  display: flex;\\n  height: 100vh;\\n  margin: 0px;\\n  overflow-x: hidden;\\n  overflow-y: hidden;\\n}\\n\\n.bk-root .bk, .bk-root .bk:before, .bk-root .bk:after {\\n  font-family: \\\"Josefin Sans\\\";\\n}\\n\\nimg {\\n  max-width: 100%;\\n}\\n\\n#container {\\n  padding:0px;\\n  height:100vh;\\n  width: 100vw;\\n  max-width: 100vw;\\n}\\n\\n#sidebar .mdc-list {\\n  padding-left: 5px;\\n  padding-right: 5px;\\n}\\n\\n.mdc-drawer-app-content {\\n  flex: auto;\\n  position: relative;\\n  overflow: hidden;\\n}\\n\\n.mdc-drawer {\\n  background: #FAFAFA; /* GRAY 50 */\\n}\\n\\n.mdc-drawer-app-content {\\n  margin-left: 0 !important;\\n}\\n\\n.title-bar {\\n  display: contents;\\n  justify-content: center;\\n  align-content: center;\\n  width: 100%;\\n}\\n\\n.mdc-top-app-bar .bk-menu {\\n  color: black\\n}\\n\\n.app-header {\\n  display: contents;\\n  padding-left: 10px;\\n  font-size: 1.25em;\\n}\\n\\nimg.app-logo {\\n  padding-right: 10px;\\n  font-size: 28px;\\n  height: 30px;\\n  max-width: inherit;\\n  padding-top: 12px;\\n  padding-bottom: 6px;\\n}\\n\\n#app-title {\\n  padding-right: 12px;\\n  padding-left: 12px;\\n}\\n\\n.title {\\n  font-family: \\\"Josefin Sans\\\";\\n  color: #fff;\\n  text-decoration: none;\\n  text-decoration-line: none;\\n  text-decoration-style: initial;\\n  text-decoration-color: initial;\\n  font-weight: 400;\\n  font-size: 2em;\\n  line-height: 2em;\\n  white-space: nowrap;\\n}\\n\\n.main-content {\\n  overflow-y: scroll;\\n  overflow-x: auto;\\n}\\n\\n#header {\\n  position: absolute;\\n  z-index: 7;\\n}\\n\\n#header-items {\\n  width: 100%;\\n  margin-left:15px;\\n}\\n\\n.pn-busy-container {\\n  align-items: center;\\n  justify-content: center;\\n  display: flex;\\n}\\n\\n.mdc-drawer__content {\\n  overflow-x: hidden;\\n}\\n.mdc-drawer__content, .main-content {\\n  padding: 12px;\\n}\\n\\n.main-content {\\n  height: calc(100vh - 88px);\\n  max-height: calc(100vh - 88px);\\n  padding-right: 32px;\\n}\\n\\nbutton.mdc-button.mdc-card-button {\\n  color: transparent;\\n  height: 50px;\\n}\\n\\np.bk.mdc-button {\\n  display: none;\\n}\\n\\ndiv.bk.mdc-card {\\n  border-radius: 0px\\n}\\n\\n.mdc-card .bk.card-header {\\n  display: flex;\\n}\\n\\n.bk.mdc-card-title {\\n  font-family: \\\"Josefin Sans\\\";\\n  font-weight: bold;\\n  align-items: center;\\n  display: flex !important;\\n  position: relative !important;\\n}\\n\\n.bk.mdc-card-title:nth-child(2) {\\n  margin-left: -1.4em;\\n}\\n\\n.pn-modal {\\n  overflow-y: scroll;\\n  width: 100%;\\n  display: none;\\n  position: absolute;\\n  top: 0;\\n  left: 0;\\n}\\n\\n.pn-modal-content {\\n  font-family: \\\"Josefin Sans\\\";\\n  background-color: #0e0e0e;\\n  margin: auto;\\n  margin-top: 25px;\\n  margin-bottom: 25px;\\n  padding: 15px 20px 20px 20px;\\n  border: 1px solid #888;\\n  width: 80% !important;\\n}\\n\\n.pn-modal-close {\\n  position: absolute;\\n  right: 25px;\\n  z-index: 100;\\n}\\n\\n.pn-modal-close:hover,\\n.pn-modal-close:focus {\\n  color: #000;\\n  text-decoration: none;\\n  cursor: pointer;\\n}\\n\\n.custom_button_bokeh button.bk.bk-btn.bk-btn-default {\\n    font-size:48pt;\\n    background-color: #05b7ff;\\n    border-color: #05b7ff;\\n}\");\n    },    function(Bokeh) {\n      inject_raw_css(\"\\n    .bk.pn-loading.arc:before {\\n      background-image: url(\\\"data:image/svg+xml;base64,PHN2ZyB4bWxucz0iaHR0cDovL3d3dy53My5vcmcvMjAwMC9zdmciIHN0eWxlPSJtYXJnaW46IGF1dG87IGJhY2tncm91bmQ6IG5vbmU7IGRpc3BsYXk6IGJsb2NrOyBzaGFwZS1yZW5kZXJpbmc6IGF1dG87IiB2aWV3Qm94PSIwIDAgMTAwIDEwMCIgcHJlc2VydmVBc3BlY3RSYXRpbz0ieE1pZFlNaWQiPiAgPGNpcmNsZSBjeD0iNTAiIGN5PSI1MCIgZmlsbD0ibm9uZSIgc3Ryb2tlPSIjYzNjM2MzIiBzdHJva2Utd2lkdGg9IjEwIiByPSIzNSIgc3Ryb2tlLWRhc2hhcnJheT0iMTY0LjkzMzYxNDMxMzQ2NDE1IDU2Ljk3Nzg3MTQzNzgyMTM4Ij4gICAgPGFuaW1hdGVUcmFuc2Zvcm0gYXR0cmlidXRlTmFtZT0idHJhbnNmb3JtIiB0eXBlPSJyb3RhdGUiIHJlcGVhdENvdW50PSJpbmRlZmluaXRlIiBkdXI9IjFzIiB2YWx1ZXM9IjAgNTAgNTA7MzYwIDUwIDUwIiBrZXlUaW1lcz0iMDsxIj48L2FuaW1hdGVUcmFuc2Zvcm0+ICA8L2NpcmNsZT48L3N2Zz4=\\\");\\n      background-size: auto calc(min(50%, 400px));\\n    }\\n    \");\n    },    function(Bokeh) {\n      Bokeh.set_log_level(\"info\");\n    },\nfunction(Bokeh) {} // ensure no trailing comma for IE\n  ];\n\n  function run_inline_js() {\n    if ((root.Bokeh !== undefined) || (force === true)) {\n      for (var i = 0; i < inline_js.length; i++) {\n        inline_js[i].call(root, root.Bokeh);\n      }} else if (Date.now() < root._bokeh_timeout) {\n      setTimeout(run_inline_js, 100);\n    } else if (!root._bokeh_failed_load) {\n      console.log(\"Bokeh: BokehJS failed to load within specified timeout.\");\n      root._bokeh_failed_load = true;\n    }\n  }\n\n  if (root._bokeh_is_loading === 0) {\n    console.debug(\"Bokeh: BokehJS loaded, going straight to plotting\");\n    run_inline_js();\n  } else {\n    load_libs(css_urls, js_urls, js_modules, function() {\n      console.debug(\"Bokeh: BokehJS plotting callback run at\", now());\n      run_inline_js();\n    });\n  }\n}(window));",
            "application/vnd.holoviews_load.v0+json": ""
          },
          "metadata": {},
          "output_type": "display_data"
        },
        {
          "data": {
            "application/javascript": "\nif ((window.PyViz === undefined) || (window.PyViz instanceof HTMLElement)) {\n  window.PyViz = {comms: {}, comm_status:{}, kernels:{}, receivers: {}, plot_index: []}\n}\n\n\n    function JupyterCommManager() {\n    }\n\n    JupyterCommManager.prototype.register_target = function(plot_id, comm_id, msg_handler) {\n      if (window.comm_manager || ((window.Jupyter !== undefined) && (Jupyter.notebook.kernel != null))) {\n        var comm_manager = window.comm_manager || Jupyter.notebook.kernel.comm_manager;\n        comm_manager.register_target(comm_id, function(comm) {\n          comm.on_msg(msg_handler);\n        });\n      } else if ((plot_id in window.PyViz.kernels) && (window.PyViz.kernels[plot_id])) {\n        window.PyViz.kernels[plot_id].registerCommTarget(comm_id, function(comm) {\n          comm.onMsg = msg_handler;\n        });\n      } else if (typeof google != 'undefined' && google.colab.kernel != null) {\n        google.colab.kernel.comms.registerTarget(comm_id, (comm) => {\n          var messages = comm.messages[Symbol.asyncIterator]();\n          function processIteratorResult(result) {\n            var message = result.value;\n            console.log(message)\n            var content = {data: message.data, comm_id};\n            var buffers = []\n            for (var buffer of message.buffers || []) {\n              buffers.push(new DataView(buffer))\n            }\n            var metadata = message.metadata || {};\n            var msg = {content, buffers, metadata}\n            msg_handler(msg);\n            return messages.next().then(processIteratorResult);\n          }\n          return messages.next().then(processIteratorResult);\n        })\n      }\n    }\n\n    JupyterCommManager.prototype.get_client_comm = function(plot_id, comm_id, msg_handler) {\n      if (comm_id in window.PyViz.comms) {\n        return window.PyViz.comms[comm_id];\n      } else if (window.comm_manager || ((window.Jupyter !== undefined) && (Jupyter.notebook.kernel != null))) {\n        var comm_manager = window.comm_manager || Jupyter.notebook.kernel.comm_manager;\n        var comm = comm_manager.new_comm(comm_id, {}, {}, {}, comm_id);\n        if (msg_handler) {\n          comm.on_msg(msg_handler);\n        }\n      } else if ((plot_id in window.PyViz.kernels) && (window.PyViz.kernels[plot_id])) {\n        var comm = window.PyViz.kernels[plot_id].connectToComm(comm_id);\n        comm.open();\n        if (msg_handler) {\n          comm.onMsg = msg_handler;\n        }\n      } else if (typeof google != 'undefined' && google.colab.kernel != null) {\n        var comm_promise = google.colab.kernel.comms.open(comm_id)\n        comm_promise.then((comm) => {\n          window.PyViz.comms[comm_id] = comm;\n          if (msg_handler) {\n            var messages = comm.messages[Symbol.asyncIterator]();\n            function processIteratorResult(result) {\n              var message = result.value;\n              var content = {data: message.data};\n              var metadata = message.metadata || {comm_id};\n              var msg = {content, metadata}\n              msg_handler(msg);\n              return messages.next().then(processIteratorResult);\n            }\n            return messages.next().then(processIteratorResult);\n          }\n        }) \n        var sendClosure = (data, metadata, buffers, disposeOnDone) => {\n          return comm_promise.then((comm) => {\n            comm.send(data, metadata, buffers, disposeOnDone);\n          });\n        };\n        var comm = {\n          send: sendClosure\n        };\n      }\n      window.PyViz.comms[comm_id] = comm;\n      return comm;\n    }\n    window.PyViz.comm_manager = new JupyterCommManager();\n    \n\n\nvar JS_MIME_TYPE = 'application/javascript';\nvar HTML_MIME_TYPE = 'text/html';\nvar EXEC_MIME_TYPE = 'application/vnd.holoviews_exec.v0+json';\nvar CLASS_NAME = 'output';\n\n/**\n * Render data to the DOM node\n */\nfunction render(props, node) {\n  var div = document.createElement(\"div\");\n  var script = document.createElement(\"script\");\n  node.appendChild(div);\n  node.appendChild(script);\n}\n\n/**\n * Handle when a new output is added\n */\nfunction handle_add_output(event, handle) {\n  var output_area = handle.output_area;\n  var output = handle.output;\n  if ((output.data == undefined) || (!output.data.hasOwnProperty(EXEC_MIME_TYPE))) {\n    return\n  }\n  var id = output.metadata[EXEC_MIME_TYPE][\"id\"];\n  var toinsert = output_area.element.find(\".\" + CLASS_NAME.split(' ')[0]);\n  if (id !== undefined) {\n    var nchildren = toinsert.length;\n    var html_node = toinsert[nchildren-1].children[0];\n    html_node.innerHTML = output.data[HTML_MIME_TYPE];\n    var scripts = [];\n    var nodelist = html_node.querySelectorAll(\"script\");\n    for (var i in nodelist) {\n      if (nodelist.hasOwnProperty(i)) {\n        scripts.push(nodelist[i])\n      }\n    }\n\n    scripts.forEach( function (oldScript) {\n      var newScript = document.createElement(\"script\");\n      var attrs = [];\n      var nodemap = oldScript.attributes;\n      for (var j in nodemap) {\n        if (nodemap.hasOwnProperty(j)) {\n          attrs.push(nodemap[j])\n        }\n      }\n      attrs.forEach(function(attr) { newScript.setAttribute(attr.name, attr.value) });\n      newScript.appendChild(document.createTextNode(oldScript.innerHTML));\n      oldScript.parentNode.replaceChild(newScript, oldScript);\n    });\n    if (JS_MIME_TYPE in output.data) {\n      toinsert[nchildren-1].children[1].textContent = output.data[JS_MIME_TYPE];\n    }\n    output_area._hv_plot_id = id;\n    if ((window.Bokeh !== undefined) && (id in Bokeh.index)) {\n      window.PyViz.plot_index[id] = Bokeh.index[id];\n    } else {\n      window.PyViz.plot_index[id] = null;\n    }\n  } else if (output.metadata[EXEC_MIME_TYPE][\"server_id\"] !== undefined) {\n    var bk_div = document.createElement(\"div\");\n    bk_div.innerHTML = output.data[HTML_MIME_TYPE];\n    var script_attrs = bk_div.children[0].attributes;\n    for (var i = 0; i < script_attrs.length; i++) {\n      toinsert[toinsert.length - 1].childNodes[1].setAttribute(script_attrs[i].name, script_attrs[i].value);\n    }\n    // store reference to server id on output_area\n    output_area._bokeh_server_id = output.metadata[EXEC_MIME_TYPE][\"server_id\"];\n  }\n}\n\n/**\n * Handle when an output is cleared or removed\n */\nfunction handle_clear_output(event, handle) {\n  var id = handle.cell.output_area._hv_plot_id;\n  var server_id = handle.cell.output_area._bokeh_server_id;\n  if (((id === undefined) || !(id in PyViz.plot_index)) && (server_id !== undefined)) { return; }\n  var comm = window.PyViz.comm_manager.get_client_comm(\"hv-extension-comm\", \"hv-extension-comm\", function () {});\n  if (server_id !== null) {\n    comm.send({event_type: 'server_delete', 'id': server_id});\n    return;\n  } else if (comm !== null) {\n    comm.send({event_type: 'delete', 'id': id});\n  }\n  delete PyViz.plot_index[id];\n  if ((window.Bokeh !== undefined) & (id in window.Bokeh.index)) {\n    var doc = window.Bokeh.index[id].model.document\n    doc.clear();\n    const i = window.Bokeh.documents.indexOf(doc);\n    if (i > -1) {\n      window.Bokeh.documents.splice(i, 1);\n    }\n  }\n}\n\n/**\n * Handle kernel restart event\n */\nfunction handle_kernel_cleanup(event, handle) {\n  delete PyViz.comms[\"hv-extension-comm\"];\n  window.PyViz.plot_index = {}\n}\n\n/**\n * Handle update_display_data messages\n */\nfunction handle_update_output(event, handle) {\n  handle_clear_output(event, {cell: {output_area: handle.output_area}})\n  handle_add_output(event, handle)\n}\n\nfunction register_renderer(events, OutputArea) {\n  function append_mime(data, metadata, element) {\n    // create a DOM node to render to\n    var toinsert = this.create_output_subarea(\n    metadata,\n    CLASS_NAME,\n    EXEC_MIME_TYPE\n    );\n    this.keyboard_manager.register_events(toinsert);\n    // Render to node\n    var props = {data: data, metadata: metadata[EXEC_MIME_TYPE]};\n    render(props, toinsert[0]);\n    element.append(toinsert);\n    return toinsert\n  }\n\n  events.on('output_added.OutputArea', handle_add_output);\n  events.on('output_updated.OutputArea', handle_update_output);\n  events.on('clear_output.CodeCell', handle_clear_output);\n  events.on('delete.Cell', handle_clear_output);\n  events.on('kernel_ready.Kernel', handle_kernel_cleanup);\n\n  OutputArea.prototype.register_mime_type(EXEC_MIME_TYPE, append_mime, {\n    safe: true,\n    index: 0\n  });\n}\n\nif (window.Jupyter !== undefined) {\n  try {\n    var events = require('base/js/events');\n    var OutputArea = require('notebook/js/outputarea').OutputArea;\n    if (OutputArea.prototype.mime_types().indexOf(EXEC_MIME_TYPE) == -1) {\n      register_renderer(events, OutputArea);\n    }\n  } catch(err) {\n  }\n}\n",
            "application/vnd.holoviews_load.v0+json": ""
          },
          "metadata": {},
          "output_type": "display_data"
        },
        {
          "data": {
            "text/html": [
              "<style>.bk-root, .bk-root .bk:before, .bk-root .bk:after {\n",
              "  font-family: var(--jp-ui-font-size1);\n",
              "  font-size: var(--jp-ui-font-size1);\n",
              "  color: var(--jp-ui-font-color1);\n",
              "}\n",
              "</style>"
            ]
          },
          "metadata": {},
          "output_type": "display_data"
        }
      ],
      "source": [
        "# Base imports\n",
        "import time\n",
        "import numpy as np\n",
        "import matplotlib.pyplot as plt\n",
        "from cml.plot import initialize_bokeh\n",
        "from cml.panel import initialize_panel\n",
        "from jupyterthemes.stylefx import set_nb_theme\n",
        "from bokeh.io import show\n",
        "initialize_bokeh()\n",
        "initialize_panel()\n",
        "set_nb_theme(\"onedork\")\n",
        "rng = np.random.RandomState(1)"
      ]
    },
    {
      "attachments": {},
      "cell_type": "markdown",
      "metadata": {
        "id": "J4VfJZ81wOp2"
      },
      "source": [
        "<a id=\"convolution\"></a>\n",
        "## Convolutions"
      ]
    },
    {
      "attachments": {},
      "cell_type": "markdown",
      "metadata": {
        "id": "VPlmY_GOwOp2"
      },
      "source": [
        "In purely mathematical terms, convolution is a function derived from two given functions by integration which expresses how the shape of one is modified by the other. In simpler (discrete) terms, the convolution product of a matrix by a smaller one can be seen as _filtering_ the large matrix. Hence we slide the small matrix over the large one and compute local products at each position. Therefore the convolution operator $\\star$ computes at each position $n$\n",
        "\n",
        "$$\n",
        "(f \\star g)[n]=\\sum _{m=-M}^{M}f[n-m]g[m].\n",
        "$$\n",
        "\n",
        "An example of this operation is shown here\n",
        "\n",
        "<center>\n",
        "<img src=\"images/02_convolution.png\" align=\"center\"/>\n",
        "</center>\n",
        "\n",
        "This operation can be used to _filter_ the image (as in the _gaussian blur_ operator), or _detect_ features (such as edges). \n",
        "\n",
        "Given a 32x32 image with RGB channels, we can represent it as a tensor of shape `(3, 32, 32)` which is (channels, height, width). When we perform convolution, we need a filter that has the same channel depth as the image. For example, we can use a 5x5 filter which is of shape `(3, 5, 5)` and slide it across the image left to right, top to bottom with a stride of 1 to perform convolution. We are going to perform this in numpy, depending on a certain amount of parameters, which define the behavior of our convolution\n",
        "\n",
        "* `height` and `width`: spatial extend of the filters\n",
        "* `stride`: stride size (number of steps to jump to the next position)\n",
        "* `padding`: amount of padding (adding zeros in the original matrix)\n",
        "\n",
        "Here note that we define a simple _horizontal line detector_ kernel, but we will display other kernels that you can toy off with later on "
      ]
    },
    {
      "cell_type": "code",
      "execution_count": null,
      "metadata": {
        "id": "9mcTPyD7wOp3"
      },
      "outputs": [],
      "source": [
        "# Properties of our kernel\n",
        "pad = 2\n",
        "stride = 1\n",
        "height, width = 3, 3\n",
        "# Our convolution kernel\n",
        "weight = [\n",
        "[1, 1, 1],\n",
        "[1, 1.5, 1],\n",
        "[1, 1, 1],\n",
        "]\n",
        "weight = np.array(weight)\n",
        "# Final kernel (replicated over channels)\n",
        "kernel = np.repeat(weight[np.newaxis, :], 3, axis=1)"
      ]
    },
    {
      "attachments": {},
      "cell_type": "markdown",
      "metadata": {
        "id": "dssG3nazwOp3"
      },
      "source": [
        "Next up we need to import some image on which to apply our convolution operation. Here, we display a small code to retrieve an image directly from a URL. You can replace the desired image by the URL of your choosing."
      ]
    },
    {
      "cell_type": "code",
      "execution_count": null,
      "metadata": {
        "colab": {
          "referenced_widgets": [
            "f8c48cc09cc84435b3f001b64c5e684f"
          ]
        },
        "id": "zcb45zUEwOp3",
        "outputId": "054ee4e9-675c-4515-f52a-3f19c8c94531"
      },
      "outputs": [
        {
          "data": {
            "application/vnd.jupyter.widget-view+json": {
              "model_id": "f8c48cc09cc84435b3f001b64c5e684f",
              "version_major": 2,
              "version_minor": 0
            },
            "text/plain": [
              "BokehModel(combine_events=True, render_bundle={'docs_json': {'dd8575e9-db31-42eb-85b4-9325eb81d60e': {'defs': …"
            ]
          },
          "execution_count": 3,
          "metadata": {},
          "output_type": "execute_result"
        }
      ],
      "source": [
        "from PIL import Image\n",
        "import requests\n",
        "from io import BytesIO\n",
        "from cml.plot import image, center_plot, cml_figure\n",
        "# URL to load our example image from\n",
        "url = \"https://thumbnailer.mixcloud.com/unsafe/300x300/extaudio/6/b/a/b/d576-35c3-48a9-a01e-7dc4f0255e62.jpg\"\n",
        "response = requests.get(url)\n",
        "img = np.array(Image.open(BytesIO(response.content)))\n",
        "img = img.transpose(2, 0, 1)[:, :]\n",
        "plot = center_plot(image(img, title=\"Example image\"))\n",
        "plot"
      ]
    },
    {
      "cell_type": "code",
      "execution_count": null,
      "metadata": {
        "id": "AnnlcANpwOp3"
      },
      "outputs": [],
      "source": [
        "x_w, x_h = img.shape[1], img.shape[2]\n",
        "# Padding the original image\n",
        "x_pad = np.pad(img, pad_width=((0, 0,), (pad, pad), (pad, pad)), mode='constant', constant_values=0)\n",
        "# We can expect the output size to be\n",
        "h_out = int(1 + (x_h + 2 * pad - height) / stride)\n",
        "w_out = int(1 + (x_w + 2 * pad - width) / stride)\n",
        "# So we will store our result in\n",
        "y = np.zeros((1, h_out, w_out))"
      ]
    },
    {
      "attachments": {},
      "cell_type": "markdown",
      "metadata": {
        "id": "Pcni-A1hwOp4"
      },
      "source": [
        "Computing the convolution itself can be performed by using the following loop (which amounts to _slide_ our kernel across the large matrix). As we have seen in the course, it corresponds to computing the convolution equation\n",
        "\n",
        "$$\n",
        "(f \\star g)[n]=\\sum _{m=-M}^{M}f[n-m]g[m].\n",
        "$$\n"
      ]
    },
    {
      "cell_type": "code",
      "execution_count": null,
      "metadata": {
        "id": "B2hAo8UGwOp4"
      },
      "outputs": [],
      "source": [
        "# Sliding the kernel across the matrix\n",
        "for h in range(h_out):\n",
        "    for w in range(w_out):\n",
        "        i, j = h * stride, w * stride\n",
        "        conv_sum = np.sum(x_pad[:, i:i+height, j:j+width] * weight)\n",
        "        y[0, h, w] = conv_sum"
      ]
    },
    {
      "attachments": {},
      "cell_type": "markdown",
      "metadata": {
        "id": "zoQyNOu6wOp4"
      },
      "source": [
        "We can witness the effect of this operation with the following plot"
      ]
    },
    {
      "cell_type": "code",
      "execution_count": null,
      "metadata": {
        "colab": {
          "referenced_widgets": [
            "45e47e3ec6104e06b7e006804554e961"
          ]
        },
        "id": "ObtYZcpswOp4",
        "outputId": "27eb75fa-b5d3-4ef7-f8d3-4c4bcfe4709d"
      },
      "outputs": [
        {
          "data": {
            "application/vnd.jupyter.widget-view+json": {
              "model_id": "45e47e3ec6104e06b7e006804554e961",
              "version_major": 2,
              "version_minor": 0
            },
            "text/plain": [
              "BokehModel(combine_events=True, render_bundle={'docs_json': {'1d1b0983-08b5-489a-baaf-9465850777e4': {'defs': …"
            ]
          },
          "execution_count": 6,
          "metadata": {},
          "output_type": "execute_result"
        }
      ],
      "source": [
        "from bokeh.layouts import row\n",
        "plot = center_plot(row(image(img, title=\"Input\"), image(y, title=\"Convolved\")))\n",
        "plot"
      ]
    },
    {
      "attachments": {},
      "cell_type": "markdown",
      "metadata": {
        "id": "uRyv4ntAwOp4"
      },
      "source": [
        "As we discussed previously, depending on the content (weights) of the kernel, different features are detected by different types of convolutional kernels, we outline here several kernels that you can play with (or even try your own) by modifying the previous code."
      ]
    },
    {
      "cell_type": "code",
      "execution_count": null,
      "metadata": {
        "id": "6xhm-xVZwOp4"
      },
      "outputs": [],
      "source": [
        "# Gaussian blur\n",
        "weight = [\n",
        "[1, 1, 1],\n",
        "[1, 3, 1],\n",
        "[1, 1, 1],\n",
        "]\n",
        "# Sharpen\n",
        "weight = [\n",
        "[0, -1, 0],\n",
        "[-1, 5, -1],\n",
        "[0, -1, 0],\n",
        "]\n",
        "# Outline\n",
        "weight = [\n",
        "[-1, -1, -1],\n",
        "[-1, 8, -1],\n",
        "[-1, -1, -1],\n",
        "]\n",
        "# Detect vertical lines\n",
        "weight = [\n",
        "[-1, 0, 1],\n",
        "[-2, 0, 2],\n",
        "[-1, 0, 1],\n",
        "]\n",
        "# Detect horizontal lines\n",
        "weight = [\n",
        "[1, 2, 1],\n",
        "[0, 0, 0],\n",
        "[-1, -2, -1],\n",
        "]"
      ]
    },
    {
      "attachments": {},
      "cell_type": "markdown",
      "metadata": {
        "id": "wqMenqBHwOp5"
      },
      "source": [
        "## Convolutional Neural Networks (CNN)\n",
        "\n",
        "Convolutional NNs (CNNs) rely on convolution in place of general matrix multiplication. They are specialized for processing data with a known grid-like topology and are among the best performing systems in classification/recognition tasks. Each layer in a CNN consists in a set of $N$ _filters_ called _kernels_, that are convolved across the input. If we denote as $\\{k^l_n\\}_{n\\in[1;N]}$ the set of kernels for layer $l$, these all share a unique _kernel size_. By convolving each one of its $N$ kernels across a d-dimensional input $x$, a convolutional layer produces $N$ d-dimensional outputs called _feature maps_, denoted as $\\{a^l_n\\}_{n\\in[1;N]}$. Hence, the computation of the $n$-th activation map in layer $l$ for input $x$ is defined as:\n",
        "\n",
        "$$\n",
        "\\begin{equation}\n",
        "a^l_m = \\sum_{n=1}^{N} k^l_m \\star x_n + b^l_m\n",
        "\\end{equation}\n",
        "$$\n",
        "\n",
        "Thus, as depicted in the following Figure, the feature map corresponding to kernel $n$ consists in the sum of the d-dimensional discrete convolutions (denoted by the $\\star$ operator) between the kernel $n$ and each one of the d-dimensional data $\\{x_m\\}_{m\\in[1;M]}$, plus a bias $b$. A convolutional layer is thus a 3-dimensional tensor $h \\in \\mathcal{T}_{N,I,J}(\\mathbb{R})$ where $N$ is the number of features maps while $I$ and $J$ are respectively the _width_ and _height_ of the maps. \n",
        "\n",
        "<img src=\"images/02_cnns.png\" align=\"center\"/>"
      ]
    },
    {
      "attachments": {},
      "cell_type": "markdown",
      "metadata": {
        "id": "2B6_mst8wOp5"
      },
      "source": [
        "This can be seen as replacing our _neurons_ by _feature detectors_ (the convolutional kernels), which will increasingly process the image. In the following, we will first use the high-level interface of `Pytorch` to define a CNN"
      ]
    },
    {
      "attachments": {},
      "cell_type": "markdown",
      "metadata": {
        "id": "w6x53izZwOp5"
      },
      "source": [
        "## Implementing a CNN in `JAX`\n",
        "\n",
        "First, we are going to start by implementing the whole network in pure `JAX`. This will allow us to get a sense of how low-level operations can impact the overall design in the learning steps. We start by importing the required libraries (`JAX`, `Optax`, and their related modules). As we are on an historic path, we will be using the [`MNIST` dataset](https://en.wikipedia.org/wiki/MNIST_database), which is a digit classification dataset used for a long time as a reference in machine learning to test models (this dataset is still widely used in order to perform benchmarking on low-level properties of a network or to perform debugging).\n",
        "\n",
        "### Quick note on `JAX` vs. `Pytorch`\n",
        "\n",
        "In `JAX`, parameters are typically represented as plain numpy arrays or `JAX` DeviceArrays, and transformations on these arrays are expressed as **pure functions**. This approach is called **\"functional programming\"** and is a key feature of `JAX`. One advantage of this approach is that it allows for more explicit control over the state of the model. Since parameters are represented as plain arrays, it is easy to reason about how the state of the model changes over time. Additionally, it can be easier to implement certain optimizations (such as gradient checkpointing) using a functional programming approach.\n",
        "\n",
        "In `PyTorch`, parameters are typically represented as object-oriented modules, which encapsulate both the parameters themselves and the transformations that act on them. This approach is called **\"imperative programming\"** and is a key feature of `PyTorch`. One advantage of the object-oriented approach is that it allows for more flexible and modular code organization. Modules can be easily combined to create complex models, and the encapsulation of parameters and transformations within modules can make the code more readable and easier to reason about.\n",
        "\n",
        "Overall, both approaches have their advantages and disadvantages, and the choice between them may depend on the specific use case and personal preference. However, it is worth noting that `JAX` is generally better suited for large-scale machine learning applications, while `PyTorch` is often preferred for rapid prototyping and experimentation. Note also that several libraries exist for `JAX` that emulates this object-oriented behavior, and we will also be relying on those. Here are a few examples\n",
        "- [Flax](https://flax.readthedocs.io/en/latest/) provides a high-level API for defining neural networks and includes a variety of pre-built models and utilities.\n",
        "- [Stax](https://jax.readthedocs.io/en/latest/_autosummary/jax.experimental.stax.html) provides a functional API for defining neural network architectures with pre-built layers. \n",
        "- [Haiku](https://dm-haiku.readthedocs.io/en/latest/) also provides a high-level API for networks using a functional programming style. "
      ]
    },
    {
      "attachments": {},
      "cell_type": "markdown",
      "metadata": {
        "id": "8dcf8UlrwOp5"
      },
      "source": [
        "### Load and preprocess the dataset: \n",
        "\n",
        "Next, we are going to load the MNIST dataset and preprocess it by reshaping the input data to be in the format (batch_size, height, width, channels), normalizing the pixel values by dividing by 255, and converting the labels to integer format. Note here that we show how we can get the `MNIST` dataset from `TensorFlow` (in the `Keras` library), but throughout the course, we will be using different sources of data so that you can use any you like in the future. "
      ]
    },
    {
      "cell_type": "code",
      "execution_count": null,
      "metadata": {
        "id": "AIqb-HIwwOp5",
        "outputId": "6fa11b5d-eb52-4a67-d13a-f147d8a22d27"
      },
      "outputs": [
        {
          "name": "stdout",
          "output_type": "stream",
          "text": [
            "Downloading data from https://storage.googleapis.com/tensorflow/tf-keras-datasets/mnist.npz\n",
            "11490434/11490434 [==============================] - 0s 0us/step\n"
          ]
        }
      ],
      "source": [
        "import jax\n",
        "import jax.numpy as jnp\n",
        "from jax import random, jit, grad\n",
        "import optax\n",
        "from tensorflow.keras.datasets import mnist\n",
        "# Obtain the dataset\n",
        "(X_train, y_train), (X_test, y_test) = mnist.load_data()\n",
        "# Perform [0, 1] normalization\n",
        "X_train = X_train.reshape(-1, 28, 28, 1).astype(jnp.float32) / 255.0\n",
        "X_test = X_test.reshape(-1, 28, 28, 1).astype(jnp.float32) / 255.0\n",
        "y_train = y_train.astype(jnp.int32)\n",
        "y_test = y_test.astype(jnp.int32)"
      ]
    },
    {
      "attachments": {},
      "cell_type": "markdown",
      "metadata": {
        "id": "2TIPdZbCwOp5"
      },
      "source": [
        "### Define the CNN architecture\n",
        "\n",
        "Here, we are going to implement the CNN architecture using pure JAX functions. In this example, we use two convolutional layers, each followed by a ReLU activation. **Note that the gradient of the _pooling_ operation being slightly peculiar, we leave it for the following exercise**. Instead, we will rely on _strided convolutions_ to still obtain some dimensionality reduction across the different layers. Afterward, we flatten the output and pass it through a dense layer for classification.\n",
        "\n",
        "**We provide the full code to make this model works, but we strongly encourage you to try to recode the whole network first without looking at the actual solution**"
      ]
    },
    {
      "attachments": {},
      "cell_type": "markdown",
      "metadata": {
        "id": "asTfqA-wwOp5"
      },
      "source": [
        "***\n",
        "\n",
        "<div class=\"alert alert-success\" markdown=\"1\" style=\"color:white; background-color: #192841; border-color: #779ecb\">\n",
        "\n",
        "> ### Exercise (course)\n",
        ">   1. Implement the convolution, pooling operation in JAX\n",
        ">   2. Define your CNN based on those defined operations\n",
        ">   3. Train your model on the MNIST dataset\n",
        "\n",
        "</div>\n",
        "\n",
        "***"
      ]
    },
    {
      "attachments": {},
      "cell_type": "markdown",
      "metadata": {
        "id": "CRCeeRevwOp6"
      },
      "source": [
        "### Part 1 - Implementing the operations\n",
        "\n",
        "Here you first need to define how to perform a convolution operation, which handles the padding and also how to define a linear (dense) layer. You can look into the following JAX operations.\n",
        "- `jax.lax.pad`: This operation pads an array with zeros along one or more dimensions. [Documentation](https://jax.readthedocs.io/en/latest/_autosummary/jax.lax.pad.html)\n",
        "- `jax.lax.conv_general_dilated`: This operation computes a n-dimensional convolution with dilated filter. [Documentation](https://jax.readthedocs.io/en/latest/_autosummary/jax.lax.conv_general_dilated.html)\n",
        "- `jax.nn.relu`: This operation applies the Rectified Linear Unit (ReLU) function element-wise to an input array. [Documentation](https://jax.readthedocs.io/en/latest/_autosummary/jax.nn.relu.html)"
      ]
    },
    {
      "cell_type": "code",
      "execution_count": null,
      "metadata": {
        "id": "KTeg9TU4wOp7"
      },
      "outputs": [],
      "source": [
        "######################\n",
        "# YOUR CODE GOES HERE - JAX Operations\n",
        "######################\n",
        "def conv2d(x, W, cb):\n",
        "    pass\n",
        "\n",
        "\n",
        "\n",
        "\n",
        "######################\n",
        "# Solution: \n",
        "def conv2d(x, W, b, stride=2):\n",
        "    padding_height = max((x.shape[1] - 1) * stride + W.shape[0] - x.shape[1], 0)\n",
        "    padding_width = max((x.shape[2] - 1) * stride + W.shape[1] - x.shape[2], 0)\n",
        "    pad_top = padding_height // 2\n",
        "    pad_bottom = padding_height - pad_top\n",
        "    pad_left = padding_width // 2\n",
        "    pad_right = padding_width - pad_left\n",
        "    padded_x = jax.lax.pad(x, 0.0, ((0, 0, 0), (pad_top, pad_bottom, 0), (pad_left, pad_right, 0), (0, 0, 0)))\n",
        "    return jax.lax.conv_general_dilated(padded_x, W, (stride, stride), ((1, 1), (1, 1)), dimension_numbers=('NHWC', 'HWIO', 'NHWC')) + b\n",
        "\n",
        "def dense(x, W, b):\n",
        "    return jnp.dot(x, W) + b\n",
        "######################"
      ]
    },
    {
      "attachments": {},
      "cell_type": "markdown",
      "metadata": {
        "id": "r_Wi4V-dwOp7"
      },
      "source": [
        "### Part 2 - Defining the CNN model\n",
        "\n",
        "Then, defining the CNN model should be a quite simple succession of your defined operation"
      ]
    },
    {
      "cell_type": "code",
      "execution_count": null,
      "metadata": {
        "id": "qbetuWbYwOp7"
      },
      "outputs": [],
      "source": [
        "######################\n",
        "# YOUR CODE GOES HERE - CNN Model\n",
        "######################\n",
        "\n",
        "######################\n",
        "# Solution: \n",
        "def cnn(params, x):\n",
        "    W1, b1, W2, b2, W3, b3, W4, b4 = params\n",
        "    # First layer\n",
        "    x = conv2d(x, W1, b1)\n",
        "    x = jax.nn.relu(x)\n",
        "    # Second layer\n",
        "    x = conv2d(x, W2, b2)\n",
        "    x = jax.nn.relu(x)\n",
        "    # Third layer\n",
        "    x = x.reshape((x.shape[0], -1))\n",
        "    x = dense(x, W3, b3)\n",
        "    x = jax.nn.relu(x)\n",
        "    # Final (MLP) layer\n",
        "    x = dense(x, W4, b4)\n",
        "    return x\n",
        "######################"
      ]
    },
    {
      "attachments": {},
      "cell_type": "markdown",
      "metadata": {
        "id": "SHXxiy3bwOp7"
      },
      "source": [
        "### Part 3 - Define the loss function\n",
        "\n",
        "Implement a loss function that computes the categorical cross-entropy loss between the predicted logits and the true labels. To do so, you can rely on the following JAX functions\n",
        "- `jax.nn.one_hot`: This operation converts integer labels to a one-hot representation. [Documentation:](https://jax.readthedocs.io/en/latest/_autosummary/jax.nn.one_hot.html)\n",
        "- `optax.softmax_cross_entropy`: This operation computes the cross-entropy loss between a set of predicted probabilities (using softmax) and a set of true labels. [Documentation](https://optax.readthedocs.io/en/latest/api.html#optax.softmax_cross_entropy)"
      ]
    },
    {
      "cell_type": "code",
      "execution_count": null,
      "metadata": {
        "id": "A0DZQieWwOp7"
      },
      "outputs": [],
      "source": [
        "######################\n",
        "# YOUR CODE GOES HERE - CNN Model\n",
        "######################\n",
        "\n",
        "######################\n",
        "# Solution: \n",
        "\n",
        "def loss(params, x, y):\n",
        "    logits = cnn(params, x)\n",
        "    return jnp.mean(optax.softmax_cross_entropy(logits, jax.nn.one_hot(y, 10)))\n",
        "######################"
      ]
    },
    {
      "attachments": {},
      "cell_type": "markdown",
      "metadata": {
        "id": "OLeFc7R4wOp7"
      },
      "source": [
        "### Part 4 - Initializing the weights and optimizer\n",
        "\n",
        "Here, we implement a loss function that computes the categorical cross-entropy loss between the predicted logits and the true labels. Then, we set up the Adam optimizer using Optax."
      ]
    },
    {
      "cell_type": "code",
      "execution_count": null,
      "metadata": {
        "id": "V5JjIePrwOp7"
      },
      "outputs": [],
      "source": [
        "def init_params(rng):\n",
        "    # Initialize parameters\n",
        "    rng, *keys = random.split(rng, 5)\n",
        "    W1 = random.normal(keys[0], (3, 3, 1, 32)) * jnp.sqrt(2 / (3 * 3 * 1))\n",
        "    b1 = jnp.zeros(32)\n",
        "    W2 = random.normal(keys[1], (3, 3, 32, 64)) * jnp.sqrt(2 / (3 * 3 * 32))\n",
        "    b2 = jnp.zeros(64)\n",
        "    W3 = random.normal(keys[2], (57600, 128)) * jnp.sqrt(2 / (7 * 7 * 64))\n",
        "    b3 = jnp.zeros(128)\n",
        "    W4 = random.normal(keys[3], (128, 10)) * jnp.sqrt(2 / 128)\n",
        "    b4 = jnp.zeros(10)\n",
        "    return W1, b1, W2, b2, W3, b3, W4, b4\n",
        "# Prepare random generator\n",
        "rng = random.PRNGKey(42)\n",
        "# Obtain the dictionary of parameters\n",
        "params = init_params(rng)\n",
        "# Create our optimizer\n",
        "optimizer = optax.adam(1e-3)\n",
        "# Initialize the optimization state\n",
        "opt_state = optimizer.init(params)"
      ]
    },
    {
      "attachments": {},
      "cell_type": "markdown",
      "metadata": {
        "id": "Ovkxu-BYwOp7"
      },
      "source": [
        "Finally, we provide here the code for the main training loop"
      ]
    },
    {
      "cell_type": "code",
      "execution_count": null,
      "metadata": {
        "id": "mOnrF0BcwOp7",
        "outputId": "66f845c5-7a1f-4bea-fda8-e250e9b67192"
      },
      "outputs": [
        {
          "name": "stdout",
          "output_type": "stream",
          "text": [
            "Epoch 1/10\n",
            "Epoch 2/10\n",
            "Epoch 3/10\n",
            "Epoch 4/10\n",
            "Epoch 5/10\n",
            "Epoch 6/10\n",
            "Epoch 7/10\n",
            "Epoch 8/10\n",
            "Epoch 9/10\n",
            "Epoch 10/10\n"
          ]
        }
      ],
      "source": [
        "@jax.jit\n",
        "def update(params, opt_state, x, y):\n",
        "    grads = jax.grad(loss)(params, x, y)\n",
        "    updates, opt_state = optimizer.update(grads, opt_state)\n",
        "    params = optax.apply_updates(params, updates)\n",
        "    return params, opt_state\n",
        "\n",
        "num_epochs = 10\n",
        "batch_size = 128\n",
        "\n",
        "for epoch in range(num_epochs):\n",
        "    print(f\"Epoch {epoch+1}/{num_epochs}\")\n",
        "    for i in range(0, len(X_train), batch_size):\n",
        "        batch_x = X_train[i:i+batch_size]\n",
        "        batch_y = y_train[i:i+batch_size]\n",
        "        params, opt_state = update(params, opt_state, batch_x, batch_y)"
      ]
    },
    {
      "attachments": {},
      "cell_type": "markdown",
      "metadata": {
        "id": "EhoMhClvwOp7"
      },
      "source": [
        "### Evaluating our network\n",
        "\n",
        "In the following, we provide a simplistic code for evaluating the results of our network. We take a random batch from the test set and pass it through the network to obtain its infered label and display the results by printing the infered label above each given input"
      ]
    },
    {
      "cell_type": "code",
      "execution_count": null,
      "metadata": {
        "id": "FhXOqhdCwOp8",
        "outputId": "08b6ba6f-3fb4-4f8f-d15b-74fcfe07b54d"
      },
      "outputs": [
        {
          "data": {
            "image/png": "[encoded data removed]",
            "text/plain": [
              "<Figure size 2000x10000 with 4 Axes>"
            ]
          },
          "metadata": {
            "image/png": {
              "height": 391,
              "width": 1574
            }
          },
          "output_type": "display_data"
        }
      ],
      "source": [
        "from cml.plot import cml_figure_matplotlib\n",
        "test_size = 4\n",
        "# Pick a random batch of input images\n",
        "start_idx = np.random.randint(0, X_test.shape[0] - test_size)\n",
        "x_batch = X_test[start_idx:start_idx+test_size]\n",
        "# Perform inference on test data\n",
        "predicted_probabilities = cnn(params, x_batch)\n",
        "# Get predicted classes\n",
        "predicted_classes = np.argmax(predicted_probabilities, axis=1)\n",
        "# Define class names\n",
        "class_names = [\"zero\", \"one\", \"two\", \"three\", \"four\", \"five\", \"six\", \"seven\", \"eight\", \"nine\"]\n",
        "# Get corresponding class names\n",
        "class_labels = [class_names[i] for i in predicted_classes]\n",
        "# Plot results\n",
        "fig = cml_figure_matplotlib(100, 20); \n",
        "axs = fig.subplots(1, 4)\n",
        "for i in range(test_size):\n",
        "    axs[i].imshow(x_batch[i]); axs[i].set_title(class_labels[i]);\n",
        "    axs[i].set_xticks([]); axs[i].set_yticks([]);"
      ]
    },
    {
      "attachments": {},
      "cell_type": "markdown",
      "metadata": {
        "id": "235BE-JSwOp8"
      },
      "source": [
        "<a id=\"cnn\"></a>\n",
        "## Exercise 1 - Defining a CNN in Pytorch\n",
        "\n",
        "Defining a convolutional network in Pytorch is quite easy, as we can rely on the `nn` module, which contains all the required layers"
      ]
    },
    {
      "cell_type": "code",
      "execution_count": 1,
      "metadata": {
        "id": "T9AuLzg4wOp8"
      },
      "outputs": [],
      "source": [
        "import torch\n",
        "import torch.nn as nn"
      ]
    },
    {
      "attachments": {},
      "cell_type": "markdown",
      "metadata": {
        "id": "b5AbSVILwOp8"
      },
      "source": [
        "In the previous course, we have seen that we could define our network in a very simple way, by using the `Sequential` model definition. Here we define a CNN followed by a MLP, as seen in the previous course"
      ]
    },
    {
      "cell_type": "code",
      "execution_count": 2,
      "metadata": {
        "id": "YUojJylgwOp8"
      },
      "outputs": [],
      "source": [
        "# Define the input dimensions\n",
        "in_size = 1000\n",
        "# Use the nn package to define our model and loss function.\n",
        "model = nn.Sequential(\n",
        "    nn.Conv2d(3, 6, 5),\n",
        "    nn.ReLU(),\n",
        "    nn.MaxPool2d(2, 2),\n",
        "    nn.Conv2d(6, 16, 5),\n",
        "    nn.ReLU(),\n",
        "    nn.MaxPool2d(2, 2),\n",
        "    nn.Flatten(),\n",
        "    nn.Linear(16 * 5 * 5, 120),\n",
        "    nn.ReLU(),\n",
        "    nn.Linear(120, 84),\n",
        "    nn.ReLU(),\n",
        "    nn.Linear(84, 10),\n",
        "    nn.Softmax(dim=1)\n",
        ")\n",
        "inputs = torch.rand(16, 3, 32, 32)\n",
        "model(inputs);"
      ]
    },
    {
      "attachments": {},
      "cell_type": "markdown",
      "metadata": {
        "id": "f5vivZgxwOp8"
      },
      "source": [
        "Another way to implement the networks in Pytorch is to use the `functional` approach. In this version, each layer is seen as a function, that we apply on sucessive inputs. For instance, we can define one layer of fully-connected units and apply it to some inputs as follows.\n"
      ]
    },
    {
      "cell_type": "code",
      "execution_count": 3,
      "metadata": {
        "id": "x5HRjxPkwOp8"
      },
      "outputs": [],
      "source": [
        "import torch.nn.functional as F\n",
        "# Define one layer\n",
        "layer = nn.Linear(100, 10)\n",
        "# Define the non-linearity\n",
        "activation = nn.Sigmoid()\n",
        "# Create some random input\n",
        "inputs = torch.rand(32, 100)\n",
        "# inputs.view(16, -1) => 200\n",
        "# inputs.view(16, -1, 4) => 50\n",
        "# Apply our layers\n",
        "outputs = activation(layer(inputs))\n",
        "# Equivalently, as ReLU is parameter-free\n",
        "outputs = F.relu(layer(inputs))\n",
        "y = (outputs + 3).sum()\n",
        "y.backward()"
      ]
    },
    {
      "attachments": {},
      "cell_type": "markdown",
      "metadata": {
        "id": "WcAxMAtWwOqA"
      },
      "source": [
        "Now to make this even cleaner, we can define our own `nn.Module`, which is a `Pytorch` class representing models. To do so, we can define a sub-class, and implement the functions `__init__` (defining our layers) and `forward` (explaining how our forward pass will behave)\n",
        "\n",
        "***\n",
        "\n",
        "<div class=\"alert alert-success\" markdown=\"1\" style=\"color:white; background-color: #013220; border-color: #03C03C\">\n",
        "\n",
        "> ### Question 1.1 - Implement a CNN by **using the `functional` library**\n",
        "\n",
        "> 1. Update the forward propagation and error computation\n",
        "> 2. Update the back-propagation part to learn the weights of both layers.\n",
        "  \n",
        "*For optional questions, please look at the end of this exercise's code boxes for more information*\n",
        "\n",
        "</div>\n",
        "\n",
        "***"
      ]
    },
    {
      "cell_type": "code",
      "execution_count": 3,
      "metadata": {
        "id": "bnxlp4e0wOqA"
      },
      "outputs": [],
      "source": [
        "import torch.nn as nn\n",
        "import torch.nn.functional as F\n",
        "\n",
        "class CNN(nn.Module):\n",
        "    def __init__(self):\n",
        "        super(CNN, self).__init__()\n",
        "\n",
        "        self.conv1_w = nn.Parameter(torch.empty(32, 1, 3, 3))\n",
        "        self.conv1_b = nn.Parameter(torch.empty(32))\n",
        "        self.conv2_w = nn.Parameter(torch.empty(64, 32, 3, 3))\n",
        "        self.conv2_b = nn.Parameter(torch.empty(64))\n",
        "        self.fc1_w = nn.Parameter(torch.empty(128, 9216))\n",
        "        self.fc1_b = nn.Parameter(torch.empty(128))\n",
        "        self.fc2_w = nn.Parameter(torch.empty(10, 128))\n",
        "        self.fc2_b = nn.Parameter(torch.empty(10))\n",
        "\n",
        "        nn.init.xavier_uniform_(self.conv1_w, gain=nn.init.calculate_gain('relu'))\n",
        "        self.conv1_b.data.fill_(0.)\n",
        "        nn.init.xavier_uniform_(self.conv2_w, gain=nn.init.calculate_gain('relu'))\n",
        "        self.conv2_b.data.fill_(0.)\n",
        "        nn.init.xavier_uniform_(self.fc1_w)\n",
        "        self.fc1_b.data.fill_(0.)\n",
        "        nn.init.xavier_uniform_(self.fc2_w)\n",
        "        self.fc2_b.data.fill_(0.)\n",
        "\n",
        "    def forward(self, x):\n",
        "        x = F.conv2d(x, self.conv1_w, self.conv1_b, stride=1, padding='valid')\n",
        "        x = F.relu(x)\n",
        "        x = F.conv2d(x, self.conv2_w, self.conv2_b, stride=1, padding='valid')\n",
        "        x = F.relu(x)\n",
        "        x = F.max_pool2d(x, 2)\n",
        "        x = F.dropout(x, 0.25, training=self.training)\n",
        "        x = torch.flatten(x, 1)\n",
        "        x = F.linear(x, self.fc1_w, self.fc1_b)\n",
        "        x = F.relu(x)\n",
        "        x = F.dropout(x, 0.5, training=self.training)\n",
        "        x = F.linear(x, self.fc2_w, self.fc2_b)\n",
        "        x = F.softmax(x, dim=1)\n",
        "        \n",
        "        return x\n",
        "\n",
        "model = CNN()"
      ]
    },
    {
      "attachments": {},
      "cell_type": "markdown",
      "metadata": {
        "id": "xe8zaHbswOqA"
      },
      "source": [
        "### Training the network\n",
        "\n",
        "In order to test our CNN, we are going to try to perform image classification. To do so, we can use the simplifications for data loading contained in `torchvision`"
      ]
    },
    {
      "cell_type": "code",
      "execution_count": 4,
      "metadata": {
        "id": "OAlCh1s0wOqA"
      },
      "outputs": [],
      "source": [
        "import torchvision\n",
        "import torchvision.transforms as transforms"
      ]
    },
    {
      "attachments": {},
      "cell_type": "markdown",
      "metadata": {
        "id": "8HwB2aS8wOqA"
      },
      "source": [
        "The `torchvision` package provides pre-coded simplification to download and use the major image datasets, notably `MNIST` and `CIFAR`, which are the baseline datasets for testing image ML models. The output of torchvision datasets are PILImage images of range [0, 1]. We transform them to Tensors of normalized range [-1, 1].\n",
        "\n",
        "In the following code, we are going to load the `CIFAR10` _train_ and _test_ sets. **Note that this code will automatically download the dataset if you did not have it before, and place it in the `data` folder, so this might take a bit of time**"
      ]
    },
    {
      "cell_type": "code",
      "execution_count": 5,
      "metadata": {
        "id": "wISn41QywOqA"
      },
      "outputs": [],
      "source": [
        "# Transforms to apply to the images\n",
        "transform = transforms.Compose([transforms.ToTensor(), transforms.Normalize((0.5), (0.5))])\n",
        "# Import the train dataset\n",
        "trainset = torchvision.datasets.MNIST(root='./data', train=True, download=True, transform=transform)\n",
        "trainloader = torch.utils.data.DataLoader(trainset, batch_size=64, shuffle=True, num_workers=2)\n",
        "# Import the test dataset\n",
        "testset = torchvision.datasets.MNIST(root='./data', train=False, download=True, transform=transform)\n",
        "testloader = torch.utils.data.DataLoader(testset, batch_size=16, shuffle=False, num_workers=2)\n",
        "# Classes in the CIFAR dataset\n",
        "classes = ('plane', 'car', 'bird', 'cat', 'deer', 'dog', 'frog', 'horse', 'ship', 'truck')"
      ]
    },
    {
      "attachments": {},
      "cell_type": "markdown",
      "metadata": {
        "id": "fy1sOSfwwOqB"
      },
      "source": [
        "Using your knowledge from the previous course, you can now define an optimization problem, and implement the training loop for your model\n",
        "\n",
        "***\n",
        "\n",
        "<div class=\"alert alert-success\" markdown=\"1\" style=\"color:white; background-color: #013220; border-color: #03C03C\">\n",
        "\n",
        "> ### Question 1.2 - Training our `functional` CNN\n",
        "\n",
        "> 1. Define a `criterion` and `optimizer`\n",
        "> 2. Fill in the training loop to train your model\n",
        "  \n",
        "*For optional questions, please look at the end of this exercise's code boxes for more information*\n",
        "\n",
        "</div>\n",
        "\n",
        "***"
      ]
    },
    {
      "cell_type": "code",
      "execution_count": 6,
      "metadata": {
        "id": "efqrXuFMwOqB"
      },
      "outputs": [],
      "source": [
        "import torch.optim as optim\n",
        "\n",
        "######################\n",
        "# YOUR CODE GOES HERE\n",
        "######################\n",
        "\n",
        "criterion = nn.CrossEntropyLoss()\n",
        "optimizer = optim.Adadelta(model.parameters(), lr=1.)"
      ]
    },
    {
      "attachments": {},
      "cell_type": "markdown",
      "metadata": {
        "id": "K1sErM0rwOqB"
      },
      "source": [
        "***\n",
        "\n",
        "<div class=\"alert alert-success\" markdown=\"1\" style=\"color:white; background-color: #410819; border-color: #cb2e47\">\n",
        "\n",
        "> **Warning on the training time**\n",
        "\n",
        "> The CIFAR dataset that we are using is a very large one, and given that we are using a deep architecture, the full training of the model will take a prohibitive time on a CPU. We recommend that you either ensure that you use the GPU of your own computer or (if unavailable) try out your code on the Colab version with a GPU runtime.\n",
        "\n",
        "</div>\n",
        "\n",
        "***"
      ]
    },
    {
      "cell_type": "code",
      "execution_count": 7,
      "metadata": {
        "colab": {
          "base_uri": "https://localhost:8080/"
        },
        "id": "RUl5yA1Cxp7F",
        "outputId": "02c2af31-b4d1-403c-d403-24c7fb1abadc"
      },
      "outputs": [
        {
          "name": "stdout",
          "output_type": "stream",
          "text": [
            "cuda\n"
          ]
        }
      ],
      "source": [
        "# move model to device\n",
        "device = \"cuda\" if torch.cuda.is_available() else \"cpu\"\n",
        "device = torch.device(device)\n",
        "model.to(device)\n",
        "print(device)"
      ]
    },
    {
      "cell_type": "code",
      "execution_count": 8,
      "metadata": {
        "id": "s4LpxFcr1Bex"
      },
      "outputs": [],
      "source": [
        "def test(model, device, test_loader):\n",
        "    model.eval()\n",
        "    test_loss = 0\n",
        "    correct = 0\n",
        "    with torch.no_grad():\n",
        "        for inputs, labels in test_loader:\n",
        "            inputs, labels = inputs.to(device), labels.to(device)\n",
        "            output = model(inputs)\n",
        "            pred = output.argmax(dim=1, keepdim=True)\n",
        "            correct += pred.eq(labels.view_as(pred)).sum().item()\n",
        "\n",
        "    print(f\"Test: Acc. {correct}/{len(test_loader.dataset)} ({100. * correct / len(test_loader.dataset):.0f}%)\\n\")"
      ]
    },
    {
      "cell_type": "code",
      "execution_count": 9,
      "metadata": {
        "colab": {
          "base_uri": "https://localhost:8080/"
        },
        "id": "BNRLpHT0wOqB",
        "outputId": "e5b551c8-a207-488f-b809-44213dce9e66"
      },
      "outputs": [
        {
          "name": "stdout",
          "output_type": "stream",
          "text": [
            "loss at epoch 0: 1.5506625803294716\n",
            "Test: Acc. 9753/10000 (98%)\n",
            "\n",
            "loss at epoch 1: 1.4985086094341815\n",
            "Test: Acc. 9783/10000 (98%)\n",
            "\n",
            "loss at epoch 2: 1.491769889270319\n",
            "Test: Acc. 9845/10000 (98%)\n",
            "\n",
            "loss at epoch 3: 1.4874168760232576\n",
            "Test: Acc. 9847/10000 (98%)\n",
            "\n",
            "loss at epoch 4: 1.484432796806669\n",
            "Test: Acc. 9876/10000 (99%)\n",
            "\n",
            "loss at epoch 5: 1.48298588744613\n",
            "Test: Acc. 9867/10000 (99%)\n",
            "\n",
            "loss at epoch 6: 1.481399908121715\n",
            "Test: Acc. 9874/10000 (99%)\n",
            "\n",
            "loss at epoch 7: 1.4809246772387892\n",
            "Test: Acc. 9843/10000 (98%)\n",
            "\n",
            "loss at epoch 8: 1.4800008260873367\n",
            "Test: Acc. 9858/10000 (99%)\n",
            "\n",
            "loss at epoch 9: 1.4792246803291837\n",
            "Test: Acc. 9883/10000 (99%)\n",
            "\n"
          ]
        }
      ],
      "source": [
        "model.train()\n",
        "\n",
        "n_epochs = 10\n",
        "# Training loop\n",
        "for epoch in range(n_epochs):\n",
        "    model.train()\n",
        "    running_loss = 0.0\n",
        "    # Go through all batches\n",
        "    for i, data in enumerate(trainloader, 0):\n",
        "        # Get the inputs; data is a list of [inputs, labels]\n",
        "        inputs, labels = data\n",
        "        \n",
        "        ######################\n",
        "        # YOUR CODE GOES HERE\n",
        "        ######################\n",
        "        inputs, labels = inputs.to(device), labels.to(device)\n",
        "\n",
        "        optimizer.zero_grad()\n",
        "        output = model(inputs)\n",
        "        loss = criterion(output, labels)\n",
        "        loss.backward()\n",
        "        optimizer.step()\n",
        "\n",
        "        running_loss += loss.item() / len(trainloader)\n",
        "        \n",
        "    print(f'loss at epoch {epoch}: {running_loss}')\n",
        "\n",
        "    test(model, device, testloader)"
      ]
    },
    {
      "attachments": {},
      "cell_type": "markdown",
      "metadata": {
        "id": "14Cb-B8WwOqB"
      },
      "source": [
        "Now that your model is trained, you can test it by feeding some new (unseen) images and see if it is able to classify them correctly"
      ]
    },
    {
      "attachments": {},
      "cell_type": "markdown",
      "metadata": {
        "id": "6OxaK8CCwOqB"
      },
      "source": [
        "<a id=\"layer\"></a>\n",
        "## Coding our own convolutional layer\n",
        "\n",
        "Although `Pytorch` comes packed with pre-implemented layers, we can also very easily define our own layers. This will be useful when you start doing research and propose your own way of processing the information. A large advantage of `Pytorch` is that it performs _automatic gradient differentiation_, this means that we simply have to define how the `forward` pass will work, and `Pytorch` will automatically infer the backpropagation equations, without us having to go through any complicated differentiation\n",
        "\n",
        "In the following, we are going to redefine the `Conv2d` layer, by computing the operation ourselves.\n",
        "\n",
        "\n",
        "***\n",
        "\n",
        "<div class=\"alert alert-success\" markdown=\"1\" style=\"color:white; background-color: #192841; border-color: #779ecb\">\n",
        "\n",
        "> ### Going further (optional)\n",
        ">   1. Complete the `forward` function to compute a convolution\n",
        ">   2. Do the same for the pooling operation\n",
        ">   3. Rewrite your previous Pytorch CNN using your own modules\n",
        ">   2. Train this model on the MNIST dataset\n",
        "\n",
        "</div>\n",
        "\n",
        "***\n"
      ]
    },
    {
      "cell_type": "code",
      "execution_count": null,
      "metadata": {
        "id": "64y21EvcwOqB"
      },
      "outputs": [],
      "source": [
        "import torch\n",
        "import torch.nn as nn\n",
        "import torch.nn.functional as F\n",
        "\n",
        "class MyConv2d(nn.Module):\n",
        "    def __init__(self, n_channels, out_channels, kernel_size, dilation=1, padding=0, stride=1):\n",
        "        super(MyConv2d, self).__init__()\n",
        "        self.kernel_size = (kernel_size, kernel_size)\n",
        "        self.kernal_size_number = kernel_size * kernel_size\n",
        "        self.out_channels = out_channels\n",
        "        self.dilation = (dilation, dilation)\n",
        "        self.padding = (padding, padding)\n",
        "        self.stride = (stride, stride)\n",
        "        self.n_channels = n_channels\n",
        "        self.weights = nn.Parameter(torch.Tensor(self.out_channels, self.n_channels, self.kernal_size_number))\n",
        "\n",
        "    def forward(self, x):\n",
        "        width = self.compute_width(x)\n",
        "        height = self.compute_height(x)\n",
        "        windows = self.compute_windows(x)\n",
        "        \n",
        "        ######################\n",
        "        # YOUR CODE GOES HERE\n",
        "        ######################\n",
        "\n",
        "        return x  \n",
        "\n",
        "    def compute_windows(self, x):\n",
        "        windows = F.unfold(x, kernel_size=self.kernel_size, padding=self.padding, dilation=self.dilation, stride=self.stride)\n",
        "        windows = windows.transpose(1, 2).contiguous().view(-1, x.shape[1], self.kernal_size_number)\n",
        "        windows = windows.transpose(0, 1)\n",
        "        return windows\n",
        "\n",
        "    def compute_width(self, x):\n",
        "        return ((x.shape[2] + 2 * self.padding[0] - self.dilation[0] * (self.kernel_size[0] - 1) - 1) // self.stride[0]) + 1\n",
        "\n",
        "    def compute_height(self, x):\n",
        "        return ((x.shape[3] + 2 * self.padding[1] - self.dilation[1] * (self.kernel_size[1] - 1) - 1)// self.stride[1]) + 1\n",
        "\n",
        "# Testing the code directly\n",
        "conv = MyConv2d(3, 1, 3)\n",
        "x = torch.randn(1, 3, 24, 24)\n",
        "out = conv(x)"
      ]
    },
    {
      "attachments": {},
      "cell_type": "markdown",
      "metadata": {
        "id": "P1zxGi9BwOqB"
      },
      "source": [
        "Now you can use your own `MyConv2d` layer, and use it in real-life scenarios. Hence, you need to first implement the pooling operation and then trying to change your previous model to use your own layer instead. "
      ]
    },
    {
      "cell_type": "code",
      "execution_count": null,
      "metadata": {
        "id": "psTnpep7wOqB"
      },
      "outputs": [],
      "source": [
        "######################\n",
        "# YOUR CODE GOES HERE\n",
        "######################"
      ]
    },
    {
      "attachments": {},
      "cell_type": "markdown",
      "metadata": {
        "id": "POQvccb-wOqB"
      },
      "source": [
        "## Exercise 2 - Recurrent Neural Networks (RNN)"
      ]
    },
    {
      "attachments": {},
      "cell_type": "markdown",
      "metadata": {
        "id": "_MmBRYx_wOqB"
      },
      "source": [
        "Recurrent neural networks (RNNs) are a family of models designed to process time series and sequential data, which perform remarkably in applications such as speech recognition or machine translation. The ability of RNNs to model correlations between successive computations through recurrent connection make them efficient for temporal problem as they provide a form of _memory_. \n",
        "\n",
        "To model structured sequential data, NNs can be augmented with recurrent loops, which allow to retain information across time steps. Considering a sequence $\\mathbf{X}=\\{\\mathbf{x}_t\\}$, dependencies between elements are managed by having a recurrent hidden state $\\mathbf{h}_t$ at time $t$ in the network. The value of $\\mathbf{h}_t$ at each time depends of the previous time and the input, as depicted in the following figure. \n",
        "\n",
        "<img src=\"images/02_rnn.png\" align=\"center\"/>\n",
        "\n",
        "Formally, each hidden state is updated as\n",
        "\n",
        "$$\n",
        "\\begin{equation}\n",
        "\\mathbf{h}_t = \n",
        "\\begin{cases} \n",
        "\\phi_{\\mathbf{\\mathbf{\\theta}}}(\\mathbf{x}_0) & \\mbox{if } t=0 \\\\ \n",
        "\\phi_{\\mathbf{\\mathbf{\\theta}}}(\\mathbf{h}_{t-1},\\mathbf{x}_t), & \\mbox{otherwise} \n",
        "\\end{cases}\n",
        "\\label{eq:RNNhiddenupdate}\n",
        "\\end{equation}\n",
        "$$ "
      ]
    },
    {
      "attachments": {},
      "cell_type": "markdown",
      "metadata": {
        "id": "z99RNP82wOqB"
      },
      "source": [
        "### Implementing a simple rnn"
      ]
    },
    {
      "attachments": {},
      "cell_type": "markdown",
      "metadata": {
        "id": "A5zXosSRwOqB"
      },
      "source": [
        "Here's a simple one-to-many vanilla recurrent neural network example in functional form. If we were to produce `h[t]`, we need some weight matrices, `h[t-1]`, `x[t]` and a non-linearity `tanh`.\n",
        "\n",
        "$$\n",
        "h_{t} = tanh(W_{hh}h_{t-1} + W_{xh}x_{t} + B_{h})\n",
        "$$\n",
        "\n",
        "Since this is a **one-to-many** network, we'd want to produce an output `y[t]` at every timestep, thus, we need another weight matrix that accepts a hidden state and project it to an output.\n",
        "\n",
        "$$\n",
        "y_{t} = W_{hy}h_{t} + B_{y}\n",
        "$$\n",
        "\n",
        "Now that we know how to use the `Functional` library of `Pytorch`, we are going to implement our own simple RNN layer as previously. This time, we do not provide the content of the `__init__` function, so think carefully of what parameters you will need and how you need to define them.\n",
        "\n",
        "\n",
        "***\n",
        "\n",
        "<div class=\"alert alert-success\" markdown=\"1\" style=\"color:white; background-color: #013220; border-color: #03C03C\">\n",
        "\n",
        "> ### Question 2.1 - Defining a `functional` RNN\n",
        "\n",
        "> 1. Complete the `__init__` function to instantiate all required parameters\n",
        "> 2. Complete the `forward` function to compute the forward pass\n",
        "\n",
        "  \n",
        "*For optional questions, please look at the end of this exercise's code boxes for more information*\n",
        "\n",
        "</div>\n",
        "\n",
        "***\n"
      ]
    },
    {
      "cell_type": "code",
      "execution_count": 1,
      "metadata": {
        "id": "3XB3W0JvwOqB"
      },
      "outputs": [],
      "source": [
        "import torch\n",
        "import torch.nn as nn\n",
        "import torch.nn.functional as F\n",
        "\n",
        "class RecurrentNetwork(nn.Module):\n",
        "    \n",
        "    def __init__(self, input_size, hidden_size, output_size):\n",
        "        \"\"\" Defines the required variables \"\"\"\n",
        "        super(RecurrentNetwork, self).__init__()\n",
        "        \n",
        "        ######################\n",
        "        # YOUR CODE GOES HERE\n",
        "        ######################\n",
        "        self.hidden_size = hidden_size\n",
        "\n",
        "        self.hidden = torch.zeros(self.hidden_size)\n",
        "        self.Whh = torch.empty(hidden_size, hidden_size)\n",
        "        self.Wxh = torch.empty(hidden_size, input_size)\n",
        "        self.Bh = torch.zeros(hidden_size)\n",
        "\n",
        "        self.Why = torch.empty(output_size, hidden_size)\n",
        "        self.By = torch.zeros(output_size)\n",
        "\n",
        "        torch.nn.init.xavier_uniform_(self.Whh)\n",
        "        torch.nn.init.xavier_uniform_(self.Wxh)\n",
        "        torch.nn.init.xavier_uniform_(self.Why)\n",
        "\n",
        "    def forward(self, x):\n",
        "        \"\"\" Computes the forward pass \"\"\"\n",
        "        \n",
        "        ######################\n",
        "        # YOUR CODE GOES HERE\n",
        "        ######################\n",
        "        self.hidden = F.tanh(F.linear(self.hidden, self.Whh) + F.linear(x, self.Wxh, self.Bh))\n",
        "        output = F.linear(self.hidden, self.Why, self.By)\n",
        "        return output"
      ]
    },
    {
      "attachments": {},
      "cell_type": "markdown",
      "metadata": {
        "id": "LEqe7ouWwOqC"
      },
      "source": [
        "We can then forward propagate our information inside our network"
      ]
    },
    {
      "cell_type": "code",
      "execution_count": 2,
      "metadata": {
        "colab": {
          "base_uri": "https://localhost:8080/"
        },
        "id": "7l6PzQgswOqC",
        "outputId": "ba554b94-3adb-4d05-bb78-6367b7a03a4c"
      },
      "outputs": [
        {
          "name": "stdout",
          "output_type": "stream",
          "text": [
            "tensor([[ 0.5246,  0.1383,  0.3226, -1.2566, -1.3804],\n",
            "        [ 0.5246,  0.1383,  0.3226, -1.2566, -1.3804],\n",
            "        [ 0.5246,  0.1383,  0.3226, -1.2566, -1.3804],\n",
            "        [ 0.5246,  0.1383,  0.3226, -1.2566, -1.3804],\n",
            "        [ 0.5246,  0.1383,  0.3226, -1.2566, -1.3804],\n",
            "        [ 0.5246,  0.1383,  0.3226, -1.2566, -1.3804],\n",
            "        [ 0.5246,  0.1383,  0.3226, -1.2566, -1.3804],\n",
            "        [ 0.5246,  0.1383,  0.3226, -1.2566, -1.3804],\n",
            "        [ 0.5246,  0.1383,  0.3226, -1.2566, -1.3804],\n",
            "        [ 0.5246,  0.1383,  0.3226, -1.2566, -1.3804],\n",
            "        [ 0.5246,  0.1383,  0.3226, -1.2566, -1.3804],\n",
            "        [ 0.5246,  0.1383,  0.3226, -1.2566, -1.3804],\n",
            "        [ 0.5246,  0.1383,  0.3226, -1.2566, -1.3804],\n",
            "        [ 0.5246,  0.1383,  0.3226, -1.2566, -1.3804],\n",
            "        [ 0.5246,  0.1383,  0.3226, -1.2566, -1.3804],\n",
            "        [ 0.5246,  0.1383,  0.3226, -1.2566, -1.3804]])\n",
            "tensor([[ 0.7584, -0.0211,  0.3700, -1.6304, -1.5986],\n",
            "        [ 0.7584, -0.0211,  0.3700, -1.6304, -1.5986],\n",
            "        [ 0.7584, -0.0211,  0.3700, -1.6304, -1.5986],\n",
            "        [ 0.7584, -0.0211,  0.3700, -1.6304, -1.5986],\n",
            "        [ 0.7584, -0.0211,  0.3700, -1.6304, -1.5986],\n",
            "        [ 0.7584, -0.0211,  0.3700, -1.6304, -1.5986],\n",
            "        [ 0.7584, -0.0211,  0.3700, -1.6304, -1.5986],\n",
            "        [ 0.7584, -0.0211,  0.3700, -1.6304, -1.5986],\n",
            "        [ 0.7584, -0.0211,  0.3700, -1.6304, -1.5986],\n",
            "        [ 0.7584, -0.0211,  0.3700, -1.6304, -1.5986],\n",
            "        [ 0.7584, -0.0211,  0.3700, -1.6304, -1.5986],\n",
            "        [ 0.7584, -0.0211,  0.3700, -1.6304, -1.5986],\n",
            "        [ 0.7584, -0.0211,  0.3700, -1.6304, -1.5986],\n",
            "        [ 0.7584, -0.0211,  0.3700, -1.6304, -1.5986],\n",
            "        [ 0.7584, -0.0211,  0.3700, -1.6304, -1.5986],\n",
            "        [ 0.7584, -0.0211,  0.3700, -1.6304, -1.5986]])\n",
            "tensor([[ 0.6143, -0.2843,  0.4300, -1.5912, -1.7660],\n",
            "        [ 0.6143, -0.2843,  0.4300, -1.5912, -1.7660],\n",
            "        [ 0.6143, -0.2843,  0.4300, -1.5912, -1.7660],\n",
            "        [ 0.6143, -0.2843,  0.4300, -1.5912, -1.7660],\n",
            "        [ 0.6143, -0.2843,  0.4300, -1.5912, -1.7660],\n",
            "        [ 0.6143, -0.2843,  0.4300, -1.5912, -1.7660],\n",
            "        [ 0.6143, -0.2843,  0.4300, -1.5912, -1.7660],\n",
            "        [ 0.6143, -0.2843,  0.4300, -1.5912, -1.7660],\n",
            "        [ 0.6143, -0.2843,  0.4300, -1.5912, -1.7660],\n",
            "        [ 0.6143, -0.2843,  0.4300, -1.5912, -1.7660],\n",
            "        [ 0.6143, -0.2843,  0.4300, -1.5912, -1.7660],\n",
            "        [ 0.6143, -0.2843,  0.4300, -1.5912, -1.7660],\n",
            "        [ 0.6143, -0.2843,  0.4300, -1.5912, -1.7660],\n",
            "        [ 0.6143, -0.2843,  0.4300, -1.5912, -1.7660],\n",
            "        [ 0.6143, -0.2843,  0.4300, -1.5912, -1.7660],\n",
            "        [ 0.6143, -0.2843,  0.4300, -1.5912, -1.7660]])\n"
          ]
        }
      ],
      "source": [
        "in_size = 4\n",
        "input_vector = torch.ones(16, in_size)\n",
        "simple_network = RecurrentNetwork(in_size, 10, 5)\n",
        "# Notice that same input, but leads to different ouptut at every single time step.\n",
        "print(simple_network(input_vector))\n",
        "print(simple_network(input_vector))\n",
        "print(simple_network(input_vector))"
      ]
    },
    {
      "attachments": {},
      "cell_type": "markdown",
      "metadata": {
        "id": "s0X0N21qwOqC"
      },
      "source": [
        "As usual, `Pytorch` also comes packed with some pre-coded recurrent layers. You can go check the documentation to find how to use these."
      ]
    },
    {
      "attachments": {},
      "cell_type": "markdown",
      "metadata": {
        "id": "FUjHPg5RwOqC"
      },
      "source": [
        "# Music generation with LSTMs \n",
        "\n",
        "In this exercise, we will explore how to use LSTMs (Long Short-Term Memory) for symbolic music generation with the help of `PyTorch`. Music generation with LSTM is a challenging problem where the goal is to train a model to generate new pieces of music that are musically coherent and similar to a given input dataset. However, there are several challenges associated with this task, such as capturing the long-term dependencies and structures that exist in music, dealing with the high dimensionality and complexity of musical data, and balancing the need for creativity and novelty with the desire for consistency and coherence. In addition, there is the issue of evaluating the quality of generated music, which can be subjective and context-dependent. Despite these challenges, recent advancements in deep learning techniques and models such as LSTMs have shown promising results in generating high-quality music, and the field continues to be an active area of research and development.\n",
        "\n",
        "We will provide here the blueprint for adressing this problem by using a \"mid-level\" approach. Compared to the previous problems, we will heavily rely on the pre-defined layers available in `Pytorch` and `JAX` (through the `Flax` library). However, we will still need to define the overall approach to solve this problem, notably for the data pre-processing, model and loss definition and the overall training loop. The major library we will be using is the `torch.nn` as follows "
      ]
    },
    {
      "cell_type": "code",
      "execution_count": 2,
      "metadata": {
        "id": "Mt-1CVkhwOqC"
      },
      "outputs": [],
      "source": [
        "import torch.nn as nn"
      ]
    },
    {
      "attachments": {},
      "cell_type": "markdown",
      "metadata": {
        "id": "YRQdG4DMwOqC"
      },
      "source": [
        "## Dataset\n",
        "\n",
        "Usually, symbolic music scores in computers come in the [MIDI format](https://en.wikipedia.org/wiki/MIDI). MIDI files contain information about the _pitch_, _timing_, and _duration_ of musical notes, as well as other metadata such as tempo and instrument type. However, these are events that only provide information at various time positions. Hence, to train an LSTM model, the MIDI data needs to be converted into a suitable format that can be used as input to the model. This involves several preprocessing steps, such as **quantization**, **encoding**, and **normalization**. \n",
        "- _Quantization_ involves dividing the MIDI data into fixed time intervals and mapping each note to the nearest quantized time step. \n",
        "- _Encoding_ involves converting the quantized MIDI data into a numerical representation, such as a one-hot encoding or a continuous representation using embeddings. \n",
        "- _Normalization_ involves scaling the encoded data to a fixed range to ensure that the LSTM can learn meaningful patterns and avoid saturation or vanishing gradients. \n",
        "\n",
        "Overall, preprocessing the MIDI data is a crucial step in preparing the data for deep learning with LSTMs and can have a significant impact on the quality of the generated music. However, as this is a quite complicated set of operations, we will rather rely on a dataset that has already been preprocessed and is one of the \"golden standard\" in symbolic music generation, the [JSB Chorales dataset](https://github.com/czhuang/JSB-Chorales-dataset)\n",
        "\n",
        "**Note for other input data**\n",
        "If you want to try out your network on other data, and learn how to implement your own data pre-processing methods, we recommend trying out the [Groove dataset](https://www.tensorflow.org/datasets/catalog/groove) from TFDS, which contains a large number of drum performances (as scores) in [MIDI format](https://en.wikipedia.org/wiki/MIDI).\n",
        "\n",
        "### Loading the dataset\n",
        "\n",
        "Thanks to the great work on the [JSB Chorales github](https://github.com/czhuang/JSB-Chorales-dataset), we just need to retrieve a pickled (zipped) array and import it to obtain a prepared dataset for music generation."
      ]
    },
    {
      "cell_type": "code",
      "execution_count": 3,
      "metadata": {
        "id": "xVRfSAfjwOqC"
      },
      "outputs": [],
      "source": [
        "import pickle\n",
        "import requests\n",
        "from io import BytesIO\n",
        "from cml.plot import image, center_plot, cml_figure\n",
        "# URL to load the JSB chorales dataset from\n",
        "url = \"https://github.com/czhuang/JSB-Chorales-dataset/raw/master/jsb-chorales-8th.pkl\"\n",
        "response = requests.get(url)\n",
        "with open(\"./data/jsb_chorales.pkl\", \"wb\") as f:\n",
        "    f.write(response.content)\n",
        "with open(\"./data/jsb_chorales.pkl\", \"rb\") as p:\n",
        "    data = pickle.load(p, encoding=\"latin1\")"
      ]
    },
    {
      "attachments": {},
      "cell_type": "markdown",
      "metadata": {
        "id": "D98KIocdwOqC"
      },
      "source": [
        "### Observing examples from the training set\n",
        "\n",
        "A very important step before designing a model is to carefully scrutinize the properties of the data corresponding to the task we wish to address.\n",
        "\n",
        "Here, each training example in the JSB Chorales dataset contains a sequence of 16th notes represented as integers, where each integer corresponds to a MIDI note number or a rest. The notes are represented using a simplified version where a note is represented as an integer in the range [0, 127], and a rest is represented as -1. The sequences represent the soprano, alto, tenor, and bass voices in four-part chorales from the J.S. Bach chorale harmonization collection. The chorales are all in 4/4 time, and each example consists of exactly 64 beats (i.e., 256 16th notes). \n",
        "\n",
        "The dataset contains a total of 229 chorales, split into 182 for training, 21 for validation, and 26 for testing. The dataset was created to facilitate research into automatic music composition and machine learning for music."
      ]
    },
    {
      "cell_type": "code",
      "execution_count": 4,
      "metadata": {
        "id": "Rll4r4A4wOqC",
        "outputId": "e1a80a62-0223-4201-af5a-9218c0e43120"
      },
      "outputs": [
        {
          "name": "stdout",
          "output_type": "stream",
          "text": [
            "[(74, 70, 65, 58), (74, 70, 65, 58), (75, 70, 58, 55), (75, 70, 60, 55), (77, 69, 62, 50), (77, 69, 62, 50), (77, 70, 62, 55), (77, 69, 62, 55), (75, 67, 63, 48), (75, 69, 63, 48), (74, 70, 65, 46), (74, 70, 65, 46), (72, 69, 65, 53), (72, 69, 65, 53), (72, 69, 65, 53), (72, 69, 65, 53), (74, 70, 65, 46), (74, 70, 65, 46), (75, 69, 63, 48), (75, 67, 63, 48), (77, 65, 62, 50), (77, 65, 60, 50), (74, 67, 58, 55), (74, 67, 58, 53), (72, 67, 58, 51), (72, 67, 58, 51), (72, 65, 57, 53), (72, 65, 57, 53), (70, 65, 62, 46), (70, 65, 62, 46), (70, 65, 62, 46), (70, 65, 62, 46), (72, 69, 65, 53), (72, 69, 65, 53), (74, 71, 53, 50), (74, 71, 53, 50), (75, 72, 55, 48), (75, 72, 55, 50), (75, 67, 60, 51), (75, 67, 60, 53), (74, 67, 60, 55), (74, 67, 57, 55), (74, 65, 59, 43), (72, 63, 59, 43), (72, 63, 55, 48), (72, 63, 55, 48), (72, 63, 55, 48), (72, 63, 55, 48), (75, 67, 60, 60), (75, 67, 60, 60), (77, 70, 62, 58), (77, 70, 62, 56), (79, 70, 62, 55), (79, 70, 62, 53), (79, 70, 63, 51), (79, 70, 63, 51), (77, 70, 63, 58), (77, 70, 60, 58), (77, 70, 62, 46), (77, 68, 62, 46), (75, 67, 58, 51), (75, 67, 58, 51), (75, 67, 58, 51), (75, 67, 58, 51), (74, 67, 58, 55), (74, 67, 58, 55), (75, 67, 58, 53), (75, 67, 58, 51), (77, 65, 58, 50), (77, 65, 56, 50), (70, 63, 55, 51), (70, 63, 55, 51), (75, 65, 60, 45), (75, 65, 60, 45), (74, 65, 58, 46), (74, 65, 58, 46), (72, 65, 57, 53), (72, 65, 57, 53), (72, 65, 57, 53), (72, 65, 57, 53), (74, 65, 58, 58), (74, 65, 58, 58), (75, 67, 58, 57), (75, 67, 58, 55), (77, 65, 60, 57), (77, 65, 60, 53), (74, 65, 58, 58), (74, 65, 58, 58), (72, 67, 58, 51), (72, 67, 58, 51), (72, 65, 57, 53), (72, 65, 57, 53), (70, 65, 62, 46), (70, 65, 62, 46), (70, 65, 62, 46), (70, 65, 62, 46)]\n"
          ]
        }
      ],
      "source": [
        "print(data[\"train\"][0])"
      ]
    },
    {
      "attachments": {},
      "cell_type": "markdown",
      "metadata": {
        "id": "Nkv93XCewOqC"
      },
      "source": [
        "Hence, based on the observed data, we can start thinking on how we could design an adequate model for processing this data. As we know that this form of data is clearly temporal, we will rely on network composed of LSTM cells. We can cast this task as an _inference_ problem, in which we try to **predict from a given sequence of notes the most probable next note**. Note that this allows us to straightforwardly use our trained network to generate entirely novel pieces of music, we just need to give different starting sequences, and then predict each note one by one (we feed the network with its own results from the past steps).\n",
        "\n",
        "***\n",
        "\n",
        "<div class=\"alert alert-success\" markdown=\"1\" style=\"color:white; background-color: #192841; border-color: #779ecb\">\n",
        "\n",
        "> ### Exercice (optional)\n",
        ">   1. Create a model that can train on the proposed input data from JSB Chorales\n",
        ">   2. Use at least one LSTM layer and an output layer for _prediction_\n",
        ">   3. Write the training function for your model\n",
        ">   4. Complete the training loop and launch your model\n",
        "\n",
        "</div>\n",
        "\n",
        "***"
      ]
    },
    {
      "attachments": {},
      "cell_type": "markdown",
      "metadata": {
        "id": "BPtiOECQwOqC"
      },
      "source": [
        "### Create the Model\n",
        "\n",
        "In this step, you will implement an RNN or LSTM model using PyTorch. Design the architecture of your choice, but make sure it has at least one LSTM layer and an output layer with a softmax activation function."
      ]
    },
    {
      "cell_type": "code",
      "execution_count": 5,
      "metadata": {
        "id": "3v9yM8qQwOqC"
      },
      "outputs": [],
      "source": [
        "class MusicLSTM(nn.Module):\n",
        "    def __init__(self, input_size, hidden_size, output_size, num_layers=1):\n",
        "        super(MusicLSTM, self).__init__()\n",
        "        \n",
        "        ######################\n",
        "        # YOUR CODE GOES HERE\n",
        "        ######################\n",
        "        self.lstm1 = nn.LSTM(\n",
        "            input_size,\n",
        "            hidden_size,\n",
        "            return_sequences=True\n",
        "        )\n",
        "        self.dropout1 = nn.Dropout(0.3)\n",
        "        self.lstm2 = nn.LSTM(hidden_size, return_sequences=True)\n",
        "        self.dropout2 = nn.Dropout(0.3)\n",
        "        self.lstm3 = nn.LSTM(hidden_size)\n",
        "        self.dense1 = nn.Linear(hidden_size, hidden_size)\n",
        "        self.dropout3 = nn.Dropout(0.3)\n",
        "        self.dense2 = nn.Linear(hidden_size, output_size)\n",
        "        self.output = nn.Softmax()\n",
        "\n",
        "    def forward(self, x):\n",
        "        \n",
        "        ######################\n",
        "        # YOUR CODE GOES HERE\n",
        "        ######################\n",
        "        out = x\n",
        "        out = self.lstm1(out)\n",
        "        out = self.dropout1(out)\n",
        "        out = self.lstm2(out)\n",
        "        out = self.dropout2(out)\n",
        "        out = self.lstm3(out)\n",
        "        out = self.dense1(out)\n",
        "        out = self.dropout3(out)\n",
        "        out = self.dense2(out)\n",
        "        out = self.output(out)\n",
        "        \n",
        "        return out"
      ]
    },
    {
      "attachments": {},
      "cell_type": "markdown",
      "metadata": {
        "id": "xDJmecgywOqC"
      },
      "source": [
        "### Training the Model\n",
        "\n",
        "Now that our model is defined, we can train it on our preprocessed music data. Implement the training function using the appropriate loss function and optimizer."
      ]
    },
    {
      "cell_type": "code",
      "execution_count": null,
      "metadata": {
        "id": "osqOLZWTwOqD"
      },
      "outputs": [],
      "source": [
        "def train(model, dataloader, optimizer, criterion, device):\n",
        "    model.train()\n",
        "   \n",
        "    ######################\n",
        "    # YOUR CODE GOES HERE\n",
        "    ######################"
      ]
    },
    {
      "attachments": {},
      "cell_type": "markdown",
      "metadata": {
        "id": "6F6deHrhwOqD"
      },
      "source": [
        "Here you can define the final training loop for your music generation network"
      ]
    },
    {
      "cell_type": "code",
      "execution_count": null,
      "metadata": {
        "id": "zeV8nUtFwOqD"
      },
      "outputs": [],
      "source": [
        "# Create model, dataloader, optimizer and loss function\n",
        "input_size = 1\n",
        "hidden_size = 512\n",
        "output_size = len(note_to_int)\n",
        "num_layers = 1\n",
        "batch_size = 64\n",
        "# Try to use a GPU if we have one available\n",
        "device = torch.device('cuda' if torch.cuda.is_available() else 'cpu')\n",
        "\n",
        "######################\n",
        "# YOUR CODE GOES HERE\n",
        "######################\n",
        "\n",
        "# Create our model\n",
        "model = ...\n",
        "# Create our optimizer and criterion\n",
        "optimizer = ...\n",
        "criterion = ...\n",
        "\n",
        "# Train the model\n",
        "num_epochs = 50\n",
        "\n",
        "for epoch in range(num_epochs):\n",
        "    \n",
        "    ######################\n",
        "    # YOUR CODE GOES HERE\n",
        "    ######################"
      ]
    },
    {
      "attachments": {},
      "cell_type": "markdown",
      "metadata": {
        "id": "s485XmhlwOqD"
      },
      "source": [
        "### Music Generation\n",
        "With our trained model, we can now generate new music sequences. Implement a function that takes an initial sequence as input and generates a new sequence of notes and chords"
      ]
    },
    {
      "cell_type": "code",
      "execution_count": null,
      "metadata": {
        "id": "nP8xyuZdwOqD"
      },
      "outputs": [],
      "source": [
        "def generate_music(model, initial_sequence, length, device):\n",
        "    model.eval()\n",
        "    generated_sequence = []\n",
        "\n",
        "    for _ in range(length):\n",
        "    \n",
        "        ######################\n",
        "        # YOUR CODE GOES HERE\n",
        "        ######################\n",
        "        pass\n",
        "\n",
        "    return generated_sequence"
      ]
    },
    {
      "attachments": {},
      "cell_type": "markdown",
      "metadata": {
        "id": "BhiOLoJDwOqD"
      },
      "source": [
        "### Listening to the results\n",
        "\n",
        "In order to be able to listen to the beautiful results of your music generation LSTM, we provide here a code that is able to synthesize audio from a MIDI file so that you can directly hear your results :)\n",
        "\n",
        "**Note that we apply this to an example from the training data, you need to change the following code so that it uses your `generate_music` function instead**"
      ]
    },
    {
      "cell_type": "code",
      "execution_count": null,
      "metadata": {
        "id": "UcQhhpS7wOqD",
        "outputId": "b50de8ef-acc4-4916-859c-9efc9c8573b0"
      },
      "outputs": [
        {
          "name": "stdout",
          "output_type": "stream",
          "text": [
            "Preparing stream\n",
            "Opening player\n",
            "Launching play (may take a while)\n"
          ]
        }
      ],
      "source": [
        "import music21\n",
        "import random\n",
        "# Select a random training example\n",
        "example = random.choice(data['train'])\n",
        "\n",
        "######################\n",
        "# YOUR CODE GOES HERE\n",
        "######################\n",
        "\n",
        "# Convert the example notes to a music21 stream\n",
        "stream = music21.stream.Stream()\n",
        "print(\"Preparing stream\")\n",
        "for i, voice in enumerate(('soprano', 'alto', 'tenor', 'bass')):\n",
        "    part = music21.stream.Part(id=voice)\n",
        "    for note_f in example:\n",
        "        note = note_f[i]\n",
        "        if note == -1:  # Rest\n",
        "            n = music21.note.Rest()\n",
        "        else:  # Note\n",
        "            n = music21.note.Note(note)\n",
        "        part.append(n)\n",
        "    stream.append(part)\n",
        "# Play the music21 stream\n",
        "print(\"Opening player\")\n",
        "sp = music21.midi.realtime.StreamPlayer(stream)\n",
        "# Launch playing\n",
        "print(\"Launching play (may take a while)\")\n",
        "sp.play()"
      ]
    },
    {
      "cell_type": "code",
      "execution_count": null,
      "metadata": {
        "id": "ZWYqyqCNwOqD"
      },
      "outputs": [],
      "source": []
    }
  ],
  "metadata": {
    "accelerator": "GPU",
    "colab": {
      "gpuType": "T4",
      "provenance": []
    },
    "gpuClass": "standard",
    "kernelspec": {
      "display_name": "Python 3 (ipykernel)",
      "language": "python",
      "name": "python3"
    },
    "language_info": {
      "codemirror_mode": {
        "name": "ipython",
        "version": 3
      },
      "file_extension": ".py",
      "mimetype": "text/x-python",
      "name": "python",
      "nbconvert_exporter": "python",
      "pygments_lexer": "ipython3",
      "version": "3.10.10"
    }
  },
  "nbformat": 4,
  "nbformat_minor": 0
}
